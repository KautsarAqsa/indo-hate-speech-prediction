{
  "nbformat": 4,
  "nbformat_minor": 0,
  "metadata": {
    "colab": {
      "provenance": [],
      "toc_visible": true
    },
    "kernelspec": {
      "name": "python3",
      "display_name": "Python 3"
    },
    "language_info": {
      "name": "python"
    }
  },
  "cells": [
    {
      "cell_type": "markdown",
      "source": [
        "# **Dependencies**"
      ],
      "metadata": {
        "id": "e_JPfewsyTKY"
      }
    },
    {
      "cell_type": "code",
      "execution_count": null,
      "metadata": {
        "id": "rC3WftamyHP_",
        "colab": {
          "base_uri": "https://localhost:8080/"
        },
        "outputId": "3c94063f-abb6-4b7e-a48e-b8cb985b4a94"
      },
      "outputs": [
        {
          "output_type": "stream",
          "name": "stderr",
          "text": [
            "[nltk_data] Downloading package stopwords to /root/nltk_data...\n",
            "[nltk_data]   Package stopwords is already up-to-date!\n",
            "[nltk_data] Downloading package punkt to /root/nltk_data...\n",
            "[nltk_data]   Package punkt is already up-to-date!\n"
          ]
        },
        {
          "output_type": "execute_result",
          "data": {
            "text/plain": [
              "True"
            ]
          },
          "metadata": {},
          "execution_count": 1
        }
      ],
      "source": [
        "# Starting library\n",
        "import pandas as pd\n",
        "import numpy as np\n",
        "import re\n",
        "import nltk\n",
        "from nltk.corpus import stopwords\n",
        "from nltk.tokenize import word_tokenize\n",
        "\n",
        "# nltk dependencies\n",
        "nltk.download('stopwords')\n",
        "nltk.download('punkt')"
      ]
    },
    {
      "cell_type": "code",
      "source": [
        "# Dataset\n",
        "slang_url = 'https://raw.githubusercontent.com/okkyibrohim/id-multi-label-hate-speech-and-abusive-language-detection/master/new_kamusalay.csv'\n",
        "dataset_url = 'https://raw.githubusercontent.com/okkyibrohim/id-multi-label-hate-speech-and-abusive-language-detection/master/re_dataset.csv'\n",
        "\n",
        "df_slang = pd.read_csv(slang_url, encoding = 'latin1', header = None)\n",
        "df_slang.columns = ['original', 'swap']\n",
        "df = pd.read_csv(dataset_url, encoding = 'latin1')"
      ],
      "metadata": {
        "id": "0Q16xtkGySar"
      },
      "execution_count": null,
      "outputs": []
    },
    {
      "cell_type": "code",
      "source": [
        "# Helper function \n",
        "def check(word):\n",
        "  return df[df['Tweet'].str.contains(word, case = False)]['Tweet'].sample(10).unique()\n",
        "\n",
        "# Words removal function\n",
        "def remove_words(sentence, word_list):\n",
        "  word_tokens = word_tokenize(sentence)\n",
        "    \n",
        "  filtered = [w for w in word_tokens if w.lower() not in word_list]\n",
        "    \n",
        "  new = ' '.join(filtered)\n",
        "    \n",
        "  return new\n",
        "\n",
        "# Words replace function\n",
        "def replace_words(sentence, dictionary):\n",
        "  word_list = dictionary.keys()\n",
        "  word_tokens = word_tokenize(sentence)\n",
        "\n",
        "  replaced = [dictionary[w] if w.lower() in list(dictionary.keys()) else w for w in word_tokens]\n",
        "\n",
        "  new = ' '.join(replaced)\n",
        "\n",
        "  return new"
      ],
      "metadata": {
        "id": "V_a0zOAo3qWv"
      },
      "execution_count": null,
      "outputs": []
    },
    {
      "cell_type": "code",
      "source": [
        "# Slang words \n",
        "df_slang.head()"
      ],
      "metadata": {
        "colab": {
          "base_uri": "https://localhost:8080/",
          "height": 206
        },
        "id": "xV2ebPpj0w0J",
        "outputId": "e93a53e5-6d3a-4d59-95e9-d6a60d274f80"
      },
      "execution_count": null,
      "outputs": [
        {
          "output_type": "execute_result",
          "data": {
            "text/plain": [
              "              original                      swap\n",
              "0  anakjakartaasikasik  anak jakarta asyik asyik\n",
              "1         pakcikdahtua         pak cik sudah tua\n",
              "2       pakcikmudalagi         pak cik muda lagi\n",
              "3          t3tapjokowi              tetap jokowi\n",
              "4                   3x                 tiga kali"
            ],
            "text/html": [
              "\n",
              "  <div id=\"df-28344e46-9f55-4437-abfe-5d88f8a64c80\">\n",
              "    <div class=\"colab-df-container\">\n",
              "      <div>\n",
              "<style scoped>\n",
              "    .dataframe tbody tr th:only-of-type {\n",
              "        vertical-align: middle;\n",
              "    }\n",
              "\n",
              "    .dataframe tbody tr th {\n",
              "        vertical-align: top;\n",
              "    }\n",
              "\n",
              "    .dataframe thead th {\n",
              "        text-align: right;\n",
              "    }\n",
              "</style>\n",
              "<table border=\"1\" class=\"dataframe\">\n",
              "  <thead>\n",
              "    <tr style=\"text-align: right;\">\n",
              "      <th></th>\n",
              "      <th>original</th>\n",
              "      <th>swap</th>\n",
              "    </tr>\n",
              "  </thead>\n",
              "  <tbody>\n",
              "    <tr>\n",
              "      <th>0</th>\n",
              "      <td>anakjakartaasikasik</td>\n",
              "      <td>anak jakarta asyik asyik</td>\n",
              "    </tr>\n",
              "    <tr>\n",
              "      <th>1</th>\n",
              "      <td>pakcikdahtua</td>\n",
              "      <td>pak cik sudah tua</td>\n",
              "    </tr>\n",
              "    <tr>\n",
              "      <th>2</th>\n",
              "      <td>pakcikmudalagi</td>\n",
              "      <td>pak cik muda lagi</td>\n",
              "    </tr>\n",
              "    <tr>\n",
              "      <th>3</th>\n",
              "      <td>t3tapjokowi</td>\n",
              "      <td>tetap jokowi</td>\n",
              "    </tr>\n",
              "    <tr>\n",
              "      <th>4</th>\n",
              "      <td>3x</td>\n",
              "      <td>tiga kali</td>\n",
              "    </tr>\n",
              "  </tbody>\n",
              "</table>\n",
              "</div>\n",
              "      <button class=\"colab-df-convert\" onclick=\"convertToInteractive('df-28344e46-9f55-4437-abfe-5d88f8a64c80')\"\n",
              "              title=\"Convert this dataframe to an interactive table.\"\n",
              "              style=\"display:none;\">\n",
              "        \n",
              "  <svg xmlns=\"http://www.w3.org/2000/svg\" height=\"24px\"viewBox=\"0 0 24 24\"\n",
              "       width=\"24px\">\n",
              "    <path d=\"M0 0h24v24H0V0z\" fill=\"none\"/>\n",
              "    <path d=\"M18.56 5.44l.94 2.06.94-2.06 2.06-.94-2.06-.94-.94-2.06-.94 2.06-2.06.94zm-11 1L8.5 8.5l.94-2.06 2.06-.94-2.06-.94L8.5 2.5l-.94 2.06-2.06.94zm10 10l.94 2.06.94-2.06 2.06-.94-2.06-.94-.94-2.06-.94 2.06-2.06.94z\"/><path d=\"M17.41 7.96l-1.37-1.37c-.4-.4-.92-.59-1.43-.59-.52 0-1.04.2-1.43.59L10.3 9.45l-7.72 7.72c-.78.78-.78 2.05 0 2.83L4 21.41c.39.39.9.59 1.41.59.51 0 1.02-.2 1.41-.59l7.78-7.78 2.81-2.81c.8-.78.8-2.07 0-2.86zM5.41 20L4 18.59l7.72-7.72 1.47 1.35L5.41 20z\"/>\n",
              "  </svg>\n",
              "      </button>\n",
              "      \n",
              "  <style>\n",
              "    .colab-df-container {\n",
              "      display:flex;\n",
              "      flex-wrap:wrap;\n",
              "      gap: 12px;\n",
              "    }\n",
              "\n",
              "    .colab-df-convert {\n",
              "      background-color: #E8F0FE;\n",
              "      border: none;\n",
              "      border-radius: 50%;\n",
              "      cursor: pointer;\n",
              "      display: none;\n",
              "      fill: #1967D2;\n",
              "      height: 32px;\n",
              "      padding: 0 0 0 0;\n",
              "      width: 32px;\n",
              "    }\n",
              "\n",
              "    .colab-df-convert:hover {\n",
              "      background-color: #E2EBFA;\n",
              "      box-shadow: 0px 1px 2px rgba(60, 64, 67, 0.3), 0px 1px 3px 1px rgba(60, 64, 67, 0.15);\n",
              "      fill: #174EA6;\n",
              "    }\n",
              "\n",
              "    [theme=dark] .colab-df-convert {\n",
              "      background-color: #3B4455;\n",
              "      fill: #D2E3FC;\n",
              "    }\n",
              "\n",
              "    [theme=dark] .colab-df-convert:hover {\n",
              "      background-color: #434B5C;\n",
              "      box-shadow: 0px 1px 3px 1px rgba(0, 0, 0, 0.15);\n",
              "      filter: drop-shadow(0px 1px 2px rgba(0, 0, 0, 0.3));\n",
              "      fill: #FFFFFF;\n",
              "    }\n",
              "  </style>\n",
              "\n",
              "      <script>\n",
              "        const buttonEl =\n",
              "          document.querySelector('#df-28344e46-9f55-4437-abfe-5d88f8a64c80 button.colab-df-convert');\n",
              "        buttonEl.style.display =\n",
              "          google.colab.kernel.accessAllowed ? 'block' : 'none';\n",
              "\n",
              "        async function convertToInteractive(key) {\n",
              "          const element = document.querySelector('#df-28344e46-9f55-4437-abfe-5d88f8a64c80');\n",
              "          const dataTable =\n",
              "            await google.colab.kernel.invokeFunction('convertToInteractive',\n",
              "                                                     [key], {});\n",
              "          if (!dataTable) return;\n",
              "\n",
              "          const docLinkHtml = 'Like what you see? Visit the ' +\n",
              "            '<a target=\"_blank\" href=https://colab.research.google.com/notebooks/data_table.ipynb>data table notebook</a>'\n",
              "            + ' to learn more about interactive tables.';\n",
              "          element.innerHTML = '';\n",
              "          dataTable['output_type'] = 'display_data';\n",
              "          await google.colab.output.renderOutput(dataTable, element);\n",
              "          const docLink = document.createElement('div');\n",
              "          docLink.innerHTML = docLinkHtml;\n",
              "          element.appendChild(docLink);\n",
              "        }\n",
              "      </script>\n",
              "    </div>\n",
              "  </div>\n",
              "  "
            ]
          },
          "metadata": {},
          "execution_count": 4
        }
      ]
    },
    {
      "cell_type": "code",
      "source": [
        "# Dataset\n",
        "df.head()"
      ],
      "metadata": {
        "colab": {
          "base_uri": "https://localhost:8080/",
          "height": 206
        },
        "id": "8xuGeKbY0yCX",
        "outputId": "eb3bdc7e-0401-4dc2-830d-b098fe1d015e"
      },
      "execution_count": null,
      "outputs": [
        {
          "output_type": "execute_result",
          "data": {
            "text/plain": [
              "                                               Tweet  HS  Abusive  \\\n",
              "0  - disaat semua cowok berusaha melacak perhatia...   1        1   \n",
              "1  RT USER: USER siapa yang telat ngasih tau elu?...   0        1   \n",
              "2  41. Kadang aku berfikir, kenapa aku tetap perc...   0        0   \n",
              "3  USER USER AKU ITU AKU\\n\\nKU TAU MATAMU SIPIT T...   0        0   \n",
              "4  USER USER Kaum cebong kapir udah keliatan dong...   1        1   \n",
              "\n",
              "   HS_Individual  HS_Group  HS_Religion  HS_Race  HS_Physical  HS_Gender  \\\n",
              "0              1         0            0        0            0          0   \n",
              "1              0         0            0        0            0          0   \n",
              "2              0         0            0        0            0          0   \n",
              "3              0         0            0        0            0          0   \n",
              "4              0         1            1        0            0          0   \n",
              "\n",
              "   HS_Other  HS_Weak  HS_Moderate  HS_Strong  \n",
              "0         1        1            0          0  \n",
              "1         0        0            0          0  \n",
              "2         0        0            0          0  \n",
              "3         0        0            0          0  \n",
              "4         0        0            1          0  "
            ],
            "text/html": [
              "\n",
              "  <div id=\"df-34538f2d-4938-42b5-9137-1c75de71cb20\">\n",
              "    <div class=\"colab-df-container\">\n",
              "      <div>\n",
              "<style scoped>\n",
              "    .dataframe tbody tr th:only-of-type {\n",
              "        vertical-align: middle;\n",
              "    }\n",
              "\n",
              "    .dataframe tbody tr th {\n",
              "        vertical-align: top;\n",
              "    }\n",
              "\n",
              "    .dataframe thead th {\n",
              "        text-align: right;\n",
              "    }\n",
              "</style>\n",
              "<table border=\"1\" class=\"dataframe\">\n",
              "  <thead>\n",
              "    <tr style=\"text-align: right;\">\n",
              "      <th></th>\n",
              "      <th>Tweet</th>\n",
              "      <th>HS</th>\n",
              "      <th>Abusive</th>\n",
              "      <th>HS_Individual</th>\n",
              "      <th>HS_Group</th>\n",
              "      <th>HS_Religion</th>\n",
              "      <th>HS_Race</th>\n",
              "      <th>HS_Physical</th>\n",
              "      <th>HS_Gender</th>\n",
              "      <th>HS_Other</th>\n",
              "      <th>HS_Weak</th>\n",
              "      <th>HS_Moderate</th>\n",
              "      <th>HS_Strong</th>\n",
              "    </tr>\n",
              "  </thead>\n",
              "  <tbody>\n",
              "    <tr>\n",
              "      <th>0</th>\n",
              "      <td>- disaat semua cowok berusaha melacak perhatia...</td>\n",
              "      <td>1</td>\n",
              "      <td>1</td>\n",
              "      <td>1</td>\n",
              "      <td>0</td>\n",
              "      <td>0</td>\n",
              "      <td>0</td>\n",
              "      <td>0</td>\n",
              "      <td>0</td>\n",
              "      <td>1</td>\n",
              "      <td>1</td>\n",
              "      <td>0</td>\n",
              "      <td>0</td>\n",
              "    </tr>\n",
              "    <tr>\n",
              "      <th>1</th>\n",
              "      <td>RT USER: USER siapa yang telat ngasih tau elu?...</td>\n",
              "      <td>0</td>\n",
              "      <td>1</td>\n",
              "      <td>0</td>\n",
              "      <td>0</td>\n",
              "      <td>0</td>\n",
              "      <td>0</td>\n",
              "      <td>0</td>\n",
              "      <td>0</td>\n",
              "      <td>0</td>\n",
              "      <td>0</td>\n",
              "      <td>0</td>\n",
              "      <td>0</td>\n",
              "    </tr>\n",
              "    <tr>\n",
              "      <th>2</th>\n",
              "      <td>41. Kadang aku berfikir, kenapa aku tetap perc...</td>\n",
              "      <td>0</td>\n",
              "      <td>0</td>\n",
              "      <td>0</td>\n",
              "      <td>0</td>\n",
              "      <td>0</td>\n",
              "      <td>0</td>\n",
              "      <td>0</td>\n",
              "      <td>0</td>\n",
              "      <td>0</td>\n",
              "      <td>0</td>\n",
              "      <td>0</td>\n",
              "      <td>0</td>\n",
              "    </tr>\n",
              "    <tr>\n",
              "      <th>3</th>\n",
              "      <td>USER USER AKU ITU AKU\\n\\nKU TAU MATAMU SIPIT T...</td>\n",
              "      <td>0</td>\n",
              "      <td>0</td>\n",
              "      <td>0</td>\n",
              "      <td>0</td>\n",
              "      <td>0</td>\n",
              "      <td>0</td>\n",
              "      <td>0</td>\n",
              "      <td>0</td>\n",
              "      <td>0</td>\n",
              "      <td>0</td>\n",
              "      <td>0</td>\n",
              "      <td>0</td>\n",
              "    </tr>\n",
              "    <tr>\n",
              "      <th>4</th>\n",
              "      <td>USER USER Kaum cebong kapir udah keliatan dong...</td>\n",
              "      <td>1</td>\n",
              "      <td>1</td>\n",
              "      <td>0</td>\n",
              "      <td>1</td>\n",
              "      <td>1</td>\n",
              "      <td>0</td>\n",
              "      <td>0</td>\n",
              "      <td>0</td>\n",
              "      <td>0</td>\n",
              "      <td>0</td>\n",
              "      <td>1</td>\n",
              "      <td>0</td>\n",
              "    </tr>\n",
              "  </tbody>\n",
              "</table>\n",
              "</div>\n",
              "      <button class=\"colab-df-convert\" onclick=\"convertToInteractive('df-34538f2d-4938-42b5-9137-1c75de71cb20')\"\n",
              "              title=\"Convert this dataframe to an interactive table.\"\n",
              "              style=\"display:none;\">\n",
              "        \n",
              "  <svg xmlns=\"http://www.w3.org/2000/svg\" height=\"24px\"viewBox=\"0 0 24 24\"\n",
              "       width=\"24px\">\n",
              "    <path d=\"M0 0h24v24H0V0z\" fill=\"none\"/>\n",
              "    <path d=\"M18.56 5.44l.94 2.06.94-2.06 2.06-.94-2.06-.94-.94-2.06-.94 2.06-2.06.94zm-11 1L8.5 8.5l.94-2.06 2.06-.94-2.06-.94L8.5 2.5l-.94 2.06-2.06.94zm10 10l.94 2.06.94-2.06 2.06-.94-2.06-.94-.94-2.06-.94 2.06-2.06.94z\"/><path d=\"M17.41 7.96l-1.37-1.37c-.4-.4-.92-.59-1.43-.59-.52 0-1.04.2-1.43.59L10.3 9.45l-7.72 7.72c-.78.78-.78 2.05 0 2.83L4 21.41c.39.39.9.59 1.41.59.51 0 1.02-.2 1.41-.59l7.78-7.78 2.81-2.81c.8-.78.8-2.07 0-2.86zM5.41 20L4 18.59l7.72-7.72 1.47 1.35L5.41 20z\"/>\n",
              "  </svg>\n",
              "      </button>\n",
              "      \n",
              "  <style>\n",
              "    .colab-df-container {\n",
              "      display:flex;\n",
              "      flex-wrap:wrap;\n",
              "      gap: 12px;\n",
              "    }\n",
              "\n",
              "    .colab-df-convert {\n",
              "      background-color: #E8F0FE;\n",
              "      border: none;\n",
              "      border-radius: 50%;\n",
              "      cursor: pointer;\n",
              "      display: none;\n",
              "      fill: #1967D2;\n",
              "      height: 32px;\n",
              "      padding: 0 0 0 0;\n",
              "      width: 32px;\n",
              "    }\n",
              "\n",
              "    .colab-df-convert:hover {\n",
              "      background-color: #E2EBFA;\n",
              "      box-shadow: 0px 1px 2px rgba(60, 64, 67, 0.3), 0px 1px 3px 1px rgba(60, 64, 67, 0.15);\n",
              "      fill: #174EA6;\n",
              "    }\n",
              "\n",
              "    [theme=dark] .colab-df-convert {\n",
              "      background-color: #3B4455;\n",
              "      fill: #D2E3FC;\n",
              "    }\n",
              "\n",
              "    [theme=dark] .colab-df-convert:hover {\n",
              "      background-color: #434B5C;\n",
              "      box-shadow: 0px 1px 3px 1px rgba(0, 0, 0, 0.15);\n",
              "      filter: drop-shadow(0px 1px 2px rgba(0, 0, 0, 0.3));\n",
              "      fill: #FFFFFF;\n",
              "    }\n",
              "  </style>\n",
              "\n",
              "      <script>\n",
              "        const buttonEl =\n",
              "          document.querySelector('#df-34538f2d-4938-42b5-9137-1c75de71cb20 button.colab-df-convert');\n",
              "        buttonEl.style.display =\n",
              "          google.colab.kernel.accessAllowed ? 'block' : 'none';\n",
              "\n",
              "        async function convertToInteractive(key) {\n",
              "          const element = document.querySelector('#df-34538f2d-4938-42b5-9137-1c75de71cb20');\n",
              "          const dataTable =\n",
              "            await google.colab.kernel.invokeFunction('convertToInteractive',\n",
              "                                                     [key], {});\n",
              "          if (!dataTable) return;\n",
              "\n",
              "          const docLinkHtml = 'Like what you see? Visit the ' +\n",
              "            '<a target=\"_blank\" href=https://colab.research.google.com/notebooks/data_table.ipynb>data table notebook</a>'\n",
              "            + ' to learn more about interactive tables.';\n",
              "          element.innerHTML = '';\n",
              "          dataTable['output_type'] = 'display_data';\n",
              "          await google.colab.output.renderOutput(dataTable, element);\n",
              "          const docLink = document.createElement('div');\n",
              "          docLink.innerHTML = docLinkHtml;\n",
              "          element.appendChild(docLink);\n",
              "        }\n",
              "      </script>\n",
              "    </div>\n",
              "  </div>\n",
              "  "
            ]
          },
          "metadata": {},
          "execution_count": 5
        }
      ]
    },
    {
      "cell_type": "markdown",
      "source": [
        "# **Cleansing**"
      ],
      "metadata": {
        "id": "GHkzetlRrxjQ"
      }
    },
    {
      "cell_type": "code",
      "source": [
        "# Explore, sampling\n",
        "df['Tweet'].sample(20).unique()"
      ],
      "metadata": {
        "colab": {
          "base_uri": "https://localhost:8080/"
        },
        "id": "VYRL_z6qebuV",
        "outputId": "e324ee5a-be55-4e42-9ab7-9a548e1dbbe9"
      },
      "execution_count": null,
      "outputs": [
        {
          "output_type": "execute_result",
          "data": {
            "text/plain": [
              "array(['USER Mulut Allah SWT di quran memang BUSUK, kafir, laknat dll',\n",
              "       \"USER USER Taplak meja warung sebelah, ya Allah humorku.'\",\n",
              "       'USER USER Baru tau ada presiden ekonomi he he emang yang milih menko anda ya',\n",
              "       \"USER Hdh cakep2 bolot'\",\n",
              "       \"Kaum 1/2 kapir dengan #OtakJunkFood nya masih berkelit mencatut islam dg kegiatan2 yang merusak aqidah islam'\",\n",
              "       \"USER USER betul bro.. PSI ini isinya sontoloyo semua bro.. yang jelas salah malah dilindungi dan diushakan menjadi benar..'\",\n",
              "       'Sebagai negara maju, ternyata segini gaji presiden AS dan pegawai pemerintahannya',\n",
              "       'klik', 'Warisan, tradisi dan budaya mana?',\n",
              "       \"USER ohh brarti lu kemaren lupa sarapan, mangkanya sarap \\\\xf0\\\\x9f\\\\x98\\\\x82'\",\n",
              "       \"USER USER Nah betul, klao sy si fair baik soeharto maupun soekarno memang pernah ada sala ketika mereka terlalu dengerin org yg muja2 mereka. Kalau soekarno terlalu dengerin pki, soeharto dengerin golkar'\",\n",
              "       'USER USER USER USER \"lu gaada apa2 nya dibanding n4d\"\\\\n\"N4d itu talanted bgt\"\\\\n\"Lu pansos bgt sih najis\"\\'',\n",
              "       'Kami mencalonkan bapak USER sebagai presiden RI di 2019; Dan kami siap bekerja di akar rumput; Untuk memenangkan bapak USER sebagai presiden RI di 2019',\n",
              "       \"Barusan, aku nonton film Monster. Film ttg Aileen Wournos. OMG sedih:(\\\\nSelama ini aku tau dia dari tulisan2 di google doang aku tau kisah2 masalalu buruk dia &amp; keluarganya yg bikin dia jadi sehancur itu &amp; jadi PSK.'\",\n",
              "       'RT USER: nih ya baca tai. udah dong jangan spam minta kado!!! USER URL',\n",
              "       'Lae Ferdinand, cocoknya jokowi di lengserkan di trotoar...jgn ditengah jalan..nanti diseruduk b2 lho',\n",
              "       'Agar Muslim mudah Buang Islam USER USER USER Kemen.Agama wajib menjelaskan asal-usul kafir',\n",
              "       \"Sudah menjadi orang kristen yang lama, tidak menjamin bahwa kita telah dewasa rohani; hendaknya kita tidak membanggakan diri.'\",\n",
              "       \"USER USER Wkwkwk update selalu gua ttg bencong satu itu'\",\n",
              "       'Di wikipedia, orde baru termasuk pemerintahan junta militer kayak pemerintahan myanmar sekarang? B aja. Yg diktator kan cuma jokowi.'],\n",
              "      dtype=object)"
            ]
          },
          "metadata": {},
          "execution_count": 6
        }
      ]
    },
    {
      "cell_type": "markdown",
      "source": [
        "### Regex cleaning"
      ],
      "metadata": {
        "id": "ywbX2wHBNf5O"
      }
    },
    {
      "cell_type": "code",
      "source": [
        "# Cleaning text using regex\n",
        "def clean_text(Tweet):\n",
        "    Tweet = re.sub('rt\\s', '', Tweet)   # remove \"rt\" -> \"retweet\"\n",
        "    Tweet = re.sub('x[\\w]+', '', Tweet)    # remove xf, xa etc.\n",
        "    Tweet = re.sub('[^a-zA-Z]+', ' ', Tweet)  # remove non-alphabet\n",
        "    Tweet = re.sub('((www\\.[^\\s]+)|(https?://[^\\s]+)|(http?://[^\\s]+))', '', Tweet)   #remove link elements\n",
        "    Tweet = re.sub('wk+', '', Tweet)    # remove \"wkwk\" -> indonesian laughing words\n",
        "    Tweet = re.sub('[akwjhz]{3,}', '', Tweet)     # remove multiple occuring single alphabet noise \"aaaa\" \"hhhh\" etc.\n",
        "    return Tweet"
      ],
      "metadata": {
        "id": "1q4R_InNyRWE"
      },
      "execution_count": null,
      "outputs": []
    },
    {
      "cell_type": "markdown",
      "source": [
        "### Slang words"
      ],
      "metadata": {
        "id": "20dzdflZNpUy"
      }
    },
    {
      "cell_type": "code",
      "source": [
        "# Create dictionary from slang words df\n",
        "slang_dict = pd.Series(df_slang['swap'].values, index = df_slang['original']).to_dict()\n",
        "for i in list(slang_dict.keys())[:10]:\n",
        "  print(i, ':', slang_dict[i])"
      ],
      "metadata": {
        "colab": {
          "base_uri": "https://localhost:8080/"
        },
        "id": "h0j_rgpHg4aL",
        "outputId": "b0a8bb26-22e6-420c-9aee-d83817d629a1"
      },
      "execution_count": null,
      "outputs": [
        {
          "output_type": "stream",
          "name": "stdout",
          "text": [
            "anakjakartaasikasik : anak jakarta asyik asyik\n",
            "pakcikdahtua : pak cik sudah tua\n",
            "pakcikmudalagi : pak cik muda lagi\n",
            "t3tapjokowi : tetap jokowi\n",
            "3x : tiga kali\n",
            "aamiin : amin\n",
            "aamiinn : amin\n",
            "aamin : amin\n",
            "aammiin : amin\n",
            "abis : habis\n"
          ]
        }
      ]
    },
    {
      "cell_type": "code",
      "source": [
        "# Test replace words function\n",
        "test_sen = \"abis ini kita bkal pegi ke pasar\"\n",
        "replace_words(test_sen, slang_dict)"
      ],
      "metadata": {
        "id": "6oLATomjB9Xt",
        "colab": {
          "base_uri": "https://localhost:8080/",
          "height": 35
        },
        "outputId": "22006920-bac3-498e-a1a0-fd61587475ee"
      },
      "execution_count": null,
      "outputs": [
        {
          "output_type": "execute_result",
          "data": {
            "text/plain": [
              "'habis ini kita bakal pergi ke pasar'"
            ],
            "application/vnd.google.colaboratory.intrinsic+json": {
              "type": "string"
            }
          },
          "metadata": {},
          "execution_count": 9
        }
      ]
    },
    {
      "cell_type": "markdown",
      "source": [
        "### Stop words"
      ],
      "metadata": {
        "id": "3uKGNSe6TDJj"
      }
    },
    {
      "cell_type": "code",
      "source": [
        "# Stop words\n",
        "stop_words = stopwords.words('indonesian')\n",
        "\n",
        "# Stop words sample\n",
        "stop_words[:10]"
      ],
      "metadata": {
        "colab": {
          "base_uri": "https://localhost:8080/"
        },
        "id": "30tNfQifSvqT",
        "outputId": "2aeab803-0f5d-47b6-f533-d6a7d4c07a9c"
      },
      "execution_count": null,
      "outputs": [
        {
          "output_type": "execute_result",
          "data": {
            "text/plain": [
              "['ada',\n",
              " 'adalah',\n",
              " 'adanya',\n",
              " 'adapun',\n",
              " 'agak',\n",
              " 'agaknya',\n",
              " 'agar',\n",
              " 'akan',\n",
              " 'akankah',\n",
              " 'akhir']"
            ]
          },
          "metadata": {},
          "execution_count": 10
        }
      ]
    },
    {
      "cell_type": "code",
      "source": [
        "# Add more words to remove\n",
        "\n",
        "other_words = ['si', 'an', 'amp','user', 'pengguna', 'url', 'ru', 'uniform', 'resource', 'locator' ,'ya', 'iya', 'sih', 'nya', 'nih', 'banget', 'kayak']\n",
        "\n",
        "character = [chr(i) for i in range(ord('a'), ord('z') + 1)]\n",
        "\n",
        "stop_words_join = stop_words + other_words + character"
      ],
      "metadata": {
        "id": "3S5LKqDRv6hk"
      },
      "execution_count": null,
      "outputs": []
    },
    {
      "cell_type": "code",
      "source": [
        "# Test remove stop word function\n",
        "test_sen = \"saya mau pergi ke sekolah naik mobil balap\"\n",
        "new_sen = remove_words(test_sen, stop_words)\n",
        "new_sen"
      ],
      "metadata": {
        "colab": {
          "base_uri": "https://localhost:8080/",
          "height": 35
        },
        "id": "W4XA5F-EXLmN",
        "outputId": "7dac7961-ff13-4b49-bb77-cf06fd661ef6"
      },
      "execution_count": null,
      "outputs": [
        {
          "output_type": "execute_result",
          "data": {
            "text/plain": [
              "'pergi sekolah mobil balap'"
            ],
            "application/vnd.google.colaboratory.intrinsic+json": {
              "type": "string"
            }
          },
          "metadata": {},
          "execution_count": 12
        }
      ]
    },
    {
      "cell_type": "markdown",
      "source": [
        "### Cleaning pipeline"
      ],
      "metadata": {
        "id": "QHJHPXmSN6IE"
      }
    },
    {
      "cell_type": "code",
      "source": [
        "# Tweet cleaning pipeline \n",
        "df['Tweet'] = df['Tweet'].str.lower()\n",
        "df['Tweet'] = df['Tweet'].apply(lambda x : clean_text(x))\n",
        "df['Tweet'] = df['Tweet'].apply(lambda x : replace_words(x, slang_dict))\n",
        "df['Tweet'] = df['Tweet'].apply(lambda x : remove_words(x, stop_words_join))\n",
        "df['Tweet'] = df['Tweet'].str.strip()"
      ],
      "metadata": {
        "id": "iVepQ0MIgaTj"
      },
      "execution_count": null,
      "outputs": []
    },
    {
      "cell_type": "code",
      "source": [
        "# Explore\n",
        "df['Tweet'].sample(20).unique()"
      ],
      "metadata": {
        "colab": {
          "base_uri": "https://localhost:8080/"
        },
        "id": "RrA-lRqHwnOo",
        "outputId": "847b8a97-b197-4258-cdd9-4d9ce9498f3b"
      },
      "execution_count": null,
      "outputs": [
        {
          "output_type": "execute_result",
          "data": {
            "text/plain": [
              "array(['sipit', 'bodoh nenek',\n",
              "       'selamat jokowi berhasil menambah hutang bayar rakyat good luck',\n",
              "       'kabar undang undang md',\n",
              "       'baju yahudi bertopi bas geng jubah putih kopiah minyak atar berjanggut dahi belekok bak ahli syurga out of place mohon dirajam',\n",
              "       'khusus pemilihan berharap calon presiden situasi kondisi teramat genting berbicaralah nurani partai politik insya allah ganti presiden rubah kem',\n",
              "       'video tenaga kerja asing malaysia mengutip pernyataan',\n",
              "       'pemburu nazi simon wiesenthal memegang foto foto menggambarkan mantan kepala gestapo laki laki rauf van kamar gas bergerak mengeksekusi orang orang yahudi',\n",
              "       'puasa sok sokan cerita buka kantor ngentot fuck pencitraan yosy bin darto',\n",
              "       'bertaji komisi pemberantasan korupsi era era komitmen pemberantasan korupsi surat pemberitahuan tahunan era susilo bambang yudhoyono',\n",
              "       'harga yahudi durian',\n",
              "       'komunis laku dimana isu jualan antek orde pendukung penerapan negara islam khilafah',\n",
              "       'ganti presiden pilihan kepala daerah daerah khusus ibukota singkirkan ahok insya allah ganti presiden',\n",
              "       'bikin cacat roh berbicara beli bilang menyesal tinggal orang hargai',\n",
              "       'twit bikin warganet suuzan kurangi ngentot',\n",
              "       'menantang buka dadalah eh menyebut setanlah habis kamus ngeln kenegarnan joko widodo presiden ri stresssssss hati kena strok serangan jantung rakyat indonesia kehilangan badut politik merdeka',\n",
              "       'lt unduh ngentot toilet sekolah bispak porno bokep',\n",
              "       'rapat terbatas perkembangan persiapan asian games istana kepresidenan bogor rabu april presiden joko widodo',\n",
              "       'sbat dibelng tai',\n",
              "       'belr desain hasilnya cacat warga negara aduh roller coaster'],\n",
              "      dtype=object)"
            ]
          },
          "metadata": {},
          "execution_count": 14
        }
      ]
    },
    {
      "cell_type": "code",
      "source": [
        "check('jokowi')"
      ],
      "metadata": {
        "colab": {
          "base_uri": "https://localhost:8080/"
        },
        "id": "PxUYNGcWxKeO",
        "outputId": "744d297a-227b-489a-c779-d27ef20f47ac"
      },
      "execution_count": null,
      "outputs": [
        {
          "output_type": "execute_result",
          "data": {
            "text/plain": [
              "array(['lengserkan orang dasarnya pengecut jokowi',\n",
              "       'kesempatan presiden menyatn negara ekonomi kuat perkara mudah tantangan ujian dihadapi penuh keyakinan optimisme jokowimasyartoptimistis',\n",
              "       'pendukung napi ahok jokowi partai keadilan sejahtera kasihan umat cebong',\n",
              "       'tolak kebangkitan partai komunis indonesia tolak peraturan pemerintah pengganti undang undang anti islam jokowi diktator lengserkan jokowi rakyat tentara nasional indonesia',\n",
              "       'golkar partai koalisi ajukan cpres jokowi',\n",
              "       'rejim jokowi otoriter memaksa pakai non tunai',\n",
              "       'memuji jokowi bu mega takut penjara',\n",
              "       'tabrn kapal pembohong bangsa indonesia kerja jokowi kodok undercover',\n",
              "       'menteri badan usaha milik negara dewe miskin prestasi conflict of interest dipertnkan pres jokowi',\n",
              "       'ditakutkan prabowo sukses jokowi takut prabowo'], dtype=object)"
            ]
          },
          "metadata": {},
          "execution_count": 15
        }
      ]
    },
    {
      "cell_type": "markdown",
      "source": [
        "# **Exploration**"
      ],
      "metadata": {
        "id": "ga9DE3gltSsr"
      }
    },
    {
      "cell_type": "markdown",
      "source": [
        "### Random Sample"
      ],
      "metadata": {
        "id": "Df_DJQBfvShd"
      }
    },
    {
      "cell_type": "code",
      "source": [
        "# Sample HS\n",
        "df[df['HS'] == 1]['Tweet'].sample(10).unique()"
      ],
      "metadata": {
        "colab": {
          "base_uri": "https://localhost:8080/"
        },
        "id": "r8z1dBxeMQxo",
        "outputId": "532af5f4-2099-44d3-eb26-3252474ba71a"
      },
      "execution_count": null,
      "outputs": [
        {
          "output_type": "execute_result",
          "data": {
            "text/plain": [
              "array(['kebanyn duit cong duit partai partai asing asing rampok duit rakyat jual rakyat otak dimana cong',\n",
              "       'setuju usir buddha indonesia',\n",
              "       'alah bacot mulut lelaki terkadang', 'buddha kafir teroris',\n",
              "       'diktator jokowi jongos organisasi jagal manusia nu mengatur siasat kampanye',\n",
              "       'kafir bodoh bengap terangkan pon pm patut kafir',\n",
              "       'bolot lemot doang mengerti', 'tolol', 'goblok orang berbeda cong',\n",
              "       'diam tai anaconda'], dtype=object)"
            ]
          },
          "metadata": {},
          "execution_count": 16
        }
      ]
    },
    {
      "cell_type": "code",
      "source": [
        "# Sample non HS\n",
        "df[df['HS'] == 0]['Tweet'].sample(10).unique()"
      ],
      "metadata": {
        "colab": {
          "base_uri": "https://localhost:8080/"
        },
        "id": "aesFgF-AMV03",
        "outputId": "d3ecc98a-b643-4624-ce90-2b4f341db3b1"
      },
      "execution_count": null,
      "outputs": [
        {
          "output_type": "execute_result",
          "data": {
            "text/plain": [
              "array(['twitter logonya burung isinya manusia anjing monyet babi',\n",
              "       'psi sanggah nyatn dukungan pasangan gus ipul puti aliansi santri pemuda ekonom kiai arumi bachsin bagus banyuwangi barisan gus sholatu barisan msantri loyalis khofifah barisan reln khofifah black kampanye calon gubernur',\n",
              "       'ulama nu selamat ikuti al alquran as sunnah',\n",
              "       'gembel belr besok ujian nasional', 'wkwk kunyuk jepang nonton rv',\n",
              "       'lengkap penderitaan pi kontol npi tangan pas pi tangan cewek kesakitan',\n",
              "       'deklarasi pilihan kepala daerah aman anti hoaks komunitas ojek jabon',\n",
              "       'dengarkan cerita etnis tionghoa dampak pp keluarganya salah satunya indonesia cina nyaman tionghoa indonesia',\n",
              "       'bikin fan fiction au menjurus anggota jujur gue menikmati bacanya gue suppolgbt does not mean not normal used to it teman gue terang terangan',\n",
              "       'pengeruk lelah sanggup mengerok oke disudahi deh dikasih minyak cina finishing selesai beres mengambil gel pakai'],\n",
              "      dtype=object)"
            ]
          },
          "metadata": {},
          "execution_count": 17
        }
      ]
    },
    {
      "cell_type": "markdown",
      "source": [
        "### Unigram"
      ],
      "metadata": {
        "id": "0e-g7GNzusqT"
      }
    },
    {
      "cell_type": "code",
      "source": [
        "# Overall Unigram\n",
        "unigram = df['Tweet'].str.split(expand = True).stack()\n",
        "unigram.value_counts().head(30)"
      ],
      "metadata": {
        "id": "o52u2bz2y1AI",
        "colab": {
          "base_uri": "https://localhost:8080/"
        },
        "outputId": "1d8061e4-44df-4135-acb0-7e5fb85b5f68"
      },
      "execution_count": null,
      "outputs": [
        {
          "output_type": "execute_result",
          "data": {
            "text/plain": [
              "indonesia    1663\n",
              "presiden     1416\n",
              "orang        1369\n",
              "gue          1248\n",
              "jokowi       1055\n",
              "islam         885\n",
              "agama         763\n",
              "partai        743\n",
              "asing         737\n",
              "komunis       726\n",
              "rakyat        676\n",
              "cina          618\n",
              "negara        556\n",
              "cebong        540\n",
              "daerah        517\n",
              "ganti         481\n",
              "gubernur      459\n",
              "kepala        405\n",
              "kristen       393\n",
              "kafir         373\n",
              "kerja         371\n",
              "ahok          369\n",
              "rezim         362\n",
              "ulama         359\n",
              "tau           338\n",
              "anak          335\n",
              "pilihan       334\n",
              "allah         332\n",
              "ekonomi       327\n",
              "prabowo       313\n",
              "dtype: int64"
            ]
          },
          "metadata": {},
          "execution_count": 18
        }
      ]
    },
    {
      "cell_type": "code",
      "source": [
        "# Hatespeech unigram\n",
        "hs_con = df['HS'] == 1\n",
        "hs_unigram = df[hs_con]['Tweet'].str.split(expand = True).stack()\n",
        "hs_unigram.value_counts().head(30)"
      ],
      "metadata": {
        "id": "ygDBU22N4DUC",
        "colab": {
          "base_uri": "https://localhost:8080/"
        },
        "outputId": "dd3e181c-c699-49ea-bb06-281b917a86e1"
      },
      "execution_count": null,
      "outputs": [
        {
          "output_type": "execute_result",
          "data": {
            "text/plain": [
              "indonesia     860\n",
              "presiden      704\n",
              "jokowi        687\n",
              "orang         524\n",
              "cebong        516\n",
              "partai        486\n",
              "komunis       474\n",
              "islam         424\n",
              "rakyat        415\n",
              "cina          410\n",
              "gue           406\n",
              "ganti         401\n",
              "ahok          334\n",
              "agama         284\n",
              "kafir         267\n",
              "negara        260\n",
              "prabowo       246\n",
              "asing         239\n",
              "rezim         231\n",
              "dasar         213\n",
              "korupsi       195\n",
              "anjing        189\n",
              "lengserkan    180\n",
              "dungu         178\n",
              "goblok        177\n",
              "kampret       173\n",
              "antek         166\n",
              "bubarkan      164\n",
              "anies         156\n",
              "babi          155\n",
              "dtype: int64"
            ]
          },
          "metadata": {},
          "execution_count": 19
        }
      ]
    },
    {
      "cell_type": "code",
      "source": [
        "# Non-hatespeech unigram\n",
        "non_hs_con = df['HS'] == 0\n",
        "non_hs_unigram = df[non_hs_con]['Tweet'].str.split(expand = True).stack()\n",
        "non_hs_unigram.value_counts().head(30)"
      ],
      "metadata": {
        "colab": {
          "base_uri": "https://localhost:8080/"
        },
        "id": "OogEYCP47DbN",
        "outputId": "a0cc8ad5-a9c9-44a6-f7d5-c26182586fbf"
      },
      "execution_count": null,
      "outputs": [
        {
          "output_type": "execute_result",
          "data": {
            "text/plain": [
              "orang        845\n",
              "gue          842\n",
              "indonesia    803\n",
              "presiden     712\n",
              "asing        498\n",
              "agama        479\n",
              "islam        461\n",
              "daerah       420\n",
              "jokowi       368\n",
              "gubernur     349\n",
              "kristen      347\n",
              "kepala       331\n",
              "pilihan      300\n",
              "negara       296\n",
              "budaya       295\n",
              "ekonomi      287\n",
              "rakyat       261\n",
              "partai       257\n",
              "komunis      252\n",
              "katolik      248\n",
              "ulama        242\n",
              "kerja        219\n",
              "anak         211\n",
              "cina         208\n",
              "tau          202\n",
              "allah        199\n",
              "suka         187\n",
              "bom          186\n",
              "nusantara    182\n",
              "yahudi       177\n",
              "dtype: int64"
            ]
          },
          "metadata": {},
          "execution_count": 20
        }
      ]
    },
    {
      "cell_type": "markdown",
      "source": [
        "# **Data Selection**"
      ],
      "metadata": {
        "id": "IGn2lo4a8KPR"
      }
    },
    {
      "cell_type": "code",
      "source": [
        "data = df[['Tweet', 'HS']]\n",
        "data.columns = ['tweet','hs']\n",
        "data.head()"
      ],
      "metadata": {
        "colab": {
          "base_uri": "https://localhost:8080/",
          "height": 206
        },
        "id": "xJd_g4Ca7TtG",
        "outputId": "e8636af2-ccc3-4eb1-e269-d8b789152e92"
      },
      "execution_count": null,
      "outputs": [
        {
          "output_type": "execute_result",
          "data": {
            "text/plain": [
              "                                               tweet  hs\n",
              "0  cowok berus melacak perhatian gue lantas remen...   1\n",
              "1  telat tau edan sarap gue bergaul cigax jifla c...   0\n",
              "2  kadang berpikir percaya tuhan padl jatuh berka...   0\n",
              "3                                ku tau matamu sipit   0\n",
              "4                  kaum cebong kafir dongoknya dungu   1"
            ],
            "text/html": [
              "\n",
              "  <div id=\"df-f8e2cd31-f732-4830-90f9-6e0bb2cbfc65\">\n",
              "    <div class=\"colab-df-container\">\n",
              "      <div>\n",
              "<style scoped>\n",
              "    .dataframe tbody tr th:only-of-type {\n",
              "        vertical-align: middle;\n",
              "    }\n",
              "\n",
              "    .dataframe tbody tr th {\n",
              "        vertical-align: top;\n",
              "    }\n",
              "\n",
              "    .dataframe thead th {\n",
              "        text-align: right;\n",
              "    }\n",
              "</style>\n",
              "<table border=\"1\" class=\"dataframe\">\n",
              "  <thead>\n",
              "    <tr style=\"text-align: right;\">\n",
              "      <th></th>\n",
              "      <th>tweet</th>\n",
              "      <th>hs</th>\n",
              "    </tr>\n",
              "  </thead>\n",
              "  <tbody>\n",
              "    <tr>\n",
              "      <th>0</th>\n",
              "      <td>cowok berus melacak perhatian gue lantas remen...</td>\n",
              "      <td>1</td>\n",
              "    </tr>\n",
              "    <tr>\n",
              "      <th>1</th>\n",
              "      <td>telat tau edan sarap gue bergaul cigax jifla c...</td>\n",
              "      <td>0</td>\n",
              "    </tr>\n",
              "    <tr>\n",
              "      <th>2</th>\n",
              "      <td>kadang berpikir percaya tuhan padl jatuh berka...</td>\n",
              "      <td>0</td>\n",
              "    </tr>\n",
              "    <tr>\n",
              "      <th>3</th>\n",
              "      <td>ku tau matamu sipit</td>\n",
              "      <td>0</td>\n",
              "    </tr>\n",
              "    <tr>\n",
              "      <th>4</th>\n",
              "      <td>kaum cebong kafir dongoknya dungu</td>\n",
              "      <td>1</td>\n",
              "    </tr>\n",
              "  </tbody>\n",
              "</table>\n",
              "</div>\n",
              "      <button class=\"colab-df-convert\" onclick=\"convertToInteractive('df-f8e2cd31-f732-4830-90f9-6e0bb2cbfc65')\"\n",
              "              title=\"Convert this dataframe to an interactive table.\"\n",
              "              style=\"display:none;\">\n",
              "        \n",
              "  <svg xmlns=\"http://www.w3.org/2000/svg\" height=\"24px\"viewBox=\"0 0 24 24\"\n",
              "       width=\"24px\">\n",
              "    <path d=\"M0 0h24v24H0V0z\" fill=\"none\"/>\n",
              "    <path d=\"M18.56 5.44l.94 2.06.94-2.06 2.06-.94-2.06-.94-.94-2.06-.94 2.06-2.06.94zm-11 1L8.5 8.5l.94-2.06 2.06-.94-2.06-.94L8.5 2.5l-.94 2.06-2.06.94zm10 10l.94 2.06.94-2.06 2.06-.94-2.06-.94-.94-2.06-.94 2.06-2.06.94z\"/><path d=\"M17.41 7.96l-1.37-1.37c-.4-.4-.92-.59-1.43-.59-.52 0-1.04.2-1.43.59L10.3 9.45l-7.72 7.72c-.78.78-.78 2.05 0 2.83L4 21.41c.39.39.9.59 1.41.59.51 0 1.02-.2 1.41-.59l7.78-7.78 2.81-2.81c.8-.78.8-2.07 0-2.86zM5.41 20L4 18.59l7.72-7.72 1.47 1.35L5.41 20z\"/>\n",
              "  </svg>\n",
              "      </button>\n",
              "      \n",
              "  <style>\n",
              "    .colab-df-container {\n",
              "      display:flex;\n",
              "      flex-wrap:wrap;\n",
              "      gap: 12px;\n",
              "    }\n",
              "\n",
              "    .colab-df-convert {\n",
              "      background-color: #E8F0FE;\n",
              "      border: none;\n",
              "      border-radius: 50%;\n",
              "      cursor: pointer;\n",
              "      display: none;\n",
              "      fill: #1967D2;\n",
              "      height: 32px;\n",
              "      padding: 0 0 0 0;\n",
              "      width: 32px;\n",
              "    }\n",
              "\n",
              "    .colab-df-convert:hover {\n",
              "      background-color: #E2EBFA;\n",
              "      box-shadow: 0px 1px 2px rgba(60, 64, 67, 0.3), 0px 1px 3px 1px rgba(60, 64, 67, 0.15);\n",
              "      fill: #174EA6;\n",
              "    }\n",
              "\n",
              "    [theme=dark] .colab-df-convert {\n",
              "      background-color: #3B4455;\n",
              "      fill: #D2E3FC;\n",
              "    }\n",
              "\n",
              "    [theme=dark] .colab-df-convert:hover {\n",
              "      background-color: #434B5C;\n",
              "      box-shadow: 0px 1px 3px 1px rgba(0, 0, 0, 0.15);\n",
              "      filter: drop-shadow(0px 1px 2px rgba(0, 0, 0, 0.3));\n",
              "      fill: #FFFFFF;\n",
              "    }\n",
              "  </style>\n",
              "\n",
              "      <script>\n",
              "        const buttonEl =\n",
              "          document.querySelector('#df-f8e2cd31-f732-4830-90f9-6e0bb2cbfc65 button.colab-df-convert');\n",
              "        buttonEl.style.display =\n",
              "          google.colab.kernel.accessAllowed ? 'block' : 'none';\n",
              "\n",
              "        async function convertToInteractive(key) {\n",
              "          const element = document.querySelector('#df-f8e2cd31-f732-4830-90f9-6e0bb2cbfc65');\n",
              "          const dataTable =\n",
              "            await google.colab.kernel.invokeFunction('convertToInteractive',\n",
              "                                                     [key], {});\n",
              "          if (!dataTable) return;\n",
              "\n",
              "          const docLinkHtml = 'Like what you see? Visit the ' +\n",
              "            '<a target=\"_blank\" href=https://colab.research.google.com/notebooks/data_table.ipynb>data table notebook</a>'\n",
              "            + ' to learn more about interactive tables.';\n",
              "          element.innerHTML = '';\n",
              "          dataTable['output_type'] = 'display_data';\n",
              "          await google.colab.output.renderOutput(dataTable, element);\n",
              "          const docLink = document.createElement('div');\n",
              "          docLink.innerHTML = docLinkHtml;\n",
              "          element.appendChild(docLink);\n",
              "        }\n",
              "      </script>\n",
              "    </div>\n",
              "  </div>\n",
              "  "
            ]
          },
          "metadata": {},
          "execution_count": 21
        }
      ]
    },
    {
      "cell_type": "code",
      "source": [
        "data['hs'].value_counts()"
      ],
      "metadata": {
        "colab": {
          "base_uri": "https://localhost:8080/"
        },
        "id": "82hWn_x78lll",
        "outputId": "ae78b44a-ecd9-4eaa-d37d-e737a837d528"
      },
      "execution_count": null,
      "outputs": [
        {
          "output_type": "execute_result",
          "data": {
            "text/plain": [
              "0    7608\n",
              "1    5561\n",
              "Name: hs, dtype: int64"
            ]
          },
          "metadata": {},
          "execution_count": 22
        }
      ]
    },
    {
      "cell_type": "code",
      "source": [
        "data['tweet'] = data['tweet'].astype(str)"
      ],
      "metadata": {
        "id": "i-Z0wRIolzxG",
        "colab": {
          "base_uri": "https://localhost:8080/"
        },
        "outputId": "7bcf9da2-163a-4ca3-e697-41214f1570bb"
      },
      "execution_count": null,
      "outputs": [
        {
          "output_type": "stream",
          "name": "stderr",
          "text": [
            "/usr/local/lib/python3.7/dist-packages/ipykernel_launcher.py:1: SettingWithCopyWarning: \n",
            "A value is trying to be set on a copy of a slice from a DataFrame.\n",
            "Try using .loc[row_indexer,col_indexer] = value instead\n",
            "\n",
            "See the caveats in the documentation: https://pandas.pydata.org/pandas-docs/stable/user_guide/indexing.html#returning-a-view-versus-a-copy\n",
            "  \"\"\"Entry point for launching an IPython kernel.\n"
          ]
        }
      ]
    },
    {
      "cell_type": "code",
      "source": [
        "data = data.dropna()\n",
        "data.info()"
      ],
      "metadata": {
        "colab": {
          "base_uri": "https://localhost:8080/"
        },
        "id": "cbGW60t2kK2m",
        "outputId": "82c5f756-37f9-4e06-87f2-581d98fe3c83"
      },
      "execution_count": null,
      "outputs": [
        {
          "output_type": "stream",
          "name": "stdout",
          "text": [
            "<class 'pandas.core.frame.DataFrame'>\n",
            "Int64Index: 13169 entries, 0 to 13168\n",
            "Data columns (total 2 columns):\n",
            " #   Column  Non-Null Count  Dtype \n",
            "---  ------  --------------  ----- \n",
            " 0   tweet   13169 non-null  object\n",
            " 1   hs      13169 non-null  int64 \n",
            "dtypes: int64(1), object(1)\n",
            "memory usage: 308.6+ KB\n"
          ]
        }
      ]
    },
    {
      "cell_type": "code",
      "source": [
        "# Export to CSV\n",
        "data.to_csv('/content/drive/MyDrive/Colab Notebooks/hatespeech_dataset.csv', index = False)"
      ],
      "metadata": {
        "id": "Jyq8F-qp8pCI"
      },
      "execution_count": null,
      "outputs": []
    }
  ]
}