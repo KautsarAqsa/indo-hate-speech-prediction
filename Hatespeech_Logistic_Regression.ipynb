{
  "cells": [
    {
      "cell_type": "markdown",
      "metadata": {
        "id": "lBtaWIzq_Pa_"
      },
      "source": [
        "# **Dependencies**\n"
      ]
    },
    {
      "cell_type": "code",
      "execution_count": null,
      "metadata": {
        "id": "zhdekk3t9dNP"
      },
      "outputs": [],
      "source": [
        "# Libraries\n",
        "import pandas as pd\n",
        "import numpy as np\n",
        "import matplotlib.pyplot as plt\n",
        "import seaborn as sns\n",
        "from nltk import word_tokenize \n",
        "from nltk.util import ngrams\n",
        "from sklearn.feature_extraction.text import TfidfVectorizer, CountVectorizer\n",
        "from sklearn.model_selection import train_test_split"
      ]
    },
    {
      "cell_type": "code",
      "execution_count": null,
      "metadata": {
        "id": "NtH7tDIl3dNA"
      },
      "outputs": [],
      "source": [
        "# Helper function \n",
        "def check(word, df):\n",
        "  return df[df['tweet'].str.contains(word, case = False)]['tweet'].unique()[:10]\n",
        "\n",
        "def unigram(df):\n",
        "  uni = df['tweet'].str.split(expand = True).stack()\n",
        "  return uni.value_counts().head(30)\n",
        "\n",
        "def get_top_n_gram(data,ngram_range,n=None):\n",
        "    vec = CountVectorizer(ngram_range=ngram_range).fit(data)\n",
        "    bag_of_words = vec.transform(data)\n",
        "    sum_words = bag_of_words.sum(axis=0) \n",
        "    words_freq = [(word, sum_words[0, idx]) for word, idx in vec.vocabulary_.items()]\n",
        "    words_freq =sorted(words_freq, key = lambda x: x[1], reverse=True)\n",
        "    return words_freq[:n]\n",
        "\n",
        "def word_count(x):\n",
        "  return len(x.split())\n",
        "\n",
        "def char_count(series):\n",
        "  clean = series.str.replace(' ', '')\n",
        "  return clean.str.len()"
      ]
    },
    {
      "cell_type": "code",
      "execution_count": null,
      "metadata": {
        "colab": {
          "base_uri": "https://localhost:8080/"
        },
        "id": "0QuIzFNPAu8H",
        "outputId": "9a3471f0-b725-4f94-f947-46c31f1310bf"
      },
      "outputs": [
        {
          "output_type": "stream",
          "name": "stdout",
          "text": [
            "Mounted at /content/drive\n"
          ]
        }
      ],
      "source": [
        "# Mount colab\n",
        "from google.colab import drive\n",
        "\n",
        "drive.mount('/content/drive', force_remount = True)"
      ]
    },
    {
      "cell_type": "code",
      "execution_count": null,
      "metadata": {
        "id": "Ji6WDrqP9qFP"
      },
      "outputs": [],
      "source": [
        "# Dataset\n",
        "dataset_url = 'https://raw.githubusercontent.com/okkyibrohim/id-multi-label-hate-speech-and-abusive-language-detection/master/re_dataset.csv'\n",
        "raw = pd.read_csv(dataset_url, encoding = 'latin1')\n",
        "df = pd.read_csv('/content/drive/MyDrive/Colab Notebooks/hatespeech_dataset.csv')"
      ]
    },
    {
      "cell_type": "code",
      "execution_count": null,
      "metadata": {
        "colab": {
          "base_uri": "https://localhost:8080/",
          "height": 363
        },
        "id": "bQiSh6jSArA8",
        "outputId": "f92344f5-c180-4e24-dc1b-2b23caf32240"
      },
      "outputs": [
        {
          "output_type": "execute_result",
          "data": {
            "text/plain": [
              "                                               tweet  hs\n",
              "0  cowok berus melacak perhatian gue lantas remen...   1\n",
              "1  telat tau edan sarap gue bergaul cigax jifla c...   0\n",
              "2  kadang berpikir percaya tuhan padl jatuh berka...   0\n",
              "3                                ku tau matamu sipit   0\n",
              "4                  kaum cebong kafir dongoknya dungu   1\n",
              "5                            bani taplak kawan kawan   1\n",
              "6  deklarasi pilihan kepala daerah aman anti hoak...   0\n",
              "7  gue selesai re watch aldnoah zero kampret kara...   0\n",
              "8  admin belanja poterbaik nak ais kepal milo ais...   0\n",
              "9                                         enak ngewe   0"
            ],
            "text/html": [
              "\n",
              "  <div id=\"df-e8589071-50b6-40c7-a890-c3cede6a3578\">\n",
              "    <div class=\"colab-df-container\">\n",
              "      <div>\n",
              "<style scoped>\n",
              "    .dataframe tbody tr th:only-of-type {\n",
              "        vertical-align: middle;\n",
              "    }\n",
              "\n",
              "    .dataframe tbody tr th {\n",
              "        vertical-align: top;\n",
              "    }\n",
              "\n",
              "    .dataframe thead th {\n",
              "        text-align: right;\n",
              "    }\n",
              "</style>\n",
              "<table border=\"1\" class=\"dataframe\">\n",
              "  <thead>\n",
              "    <tr style=\"text-align: right;\">\n",
              "      <th></th>\n",
              "      <th>tweet</th>\n",
              "      <th>hs</th>\n",
              "    </tr>\n",
              "  </thead>\n",
              "  <tbody>\n",
              "    <tr>\n",
              "      <th>0</th>\n",
              "      <td>cowok berus melacak perhatian gue lantas remen...</td>\n",
              "      <td>1</td>\n",
              "    </tr>\n",
              "    <tr>\n",
              "      <th>1</th>\n",
              "      <td>telat tau edan sarap gue bergaul cigax jifla c...</td>\n",
              "      <td>0</td>\n",
              "    </tr>\n",
              "    <tr>\n",
              "      <th>2</th>\n",
              "      <td>kadang berpikir percaya tuhan padl jatuh berka...</td>\n",
              "      <td>0</td>\n",
              "    </tr>\n",
              "    <tr>\n",
              "      <th>3</th>\n",
              "      <td>ku tau matamu sipit</td>\n",
              "      <td>0</td>\n",
              "    </tr>\n",
              "    <tr>\n",
              "      <th>4</th>\n",
              "      <td>kaum cebong kafir dongoknya dungu</td>\n",
              "      <td>1</td>\n",
              "    </tr>\n",
              "    <tr>\n",
              "      <th>5</th>\n",
              "      <td>bani taplak kawan kawan</td>\n",
              "      <td>1</td>\n",
              "    </tr>\n",
              "    <tr>\n",
              "      <th>6</th>\n",
              "      <td>deklarasi pilihan kepala daerah aman anti hoak...</td>\n",
              "      <td>0</td>\n",
              "    </tr>\n",
              "    <tr>\n",
              "      <th>7</th>\n",
              "      <td>gue selesai re watch aldnoah zero kampret kara...</td>\n",
              "      <td>0</td>\n",
              "    </tr>\n",
              "    <tr>\n",
              "      <th>8</th>\n",
              "      <td>admin belanja poterbaik nak ais kepal milo ais...</td>\n",
              "      <td>0</td>\n",
              "    </tr>\n",
              "    <tr>\n",
              "      <th>9</th>\n",
              "      <td>enak ngewe</td>\n",
              "      <td>0</td>\n",
              "    </tr>\n",
              "  </tbody>\n",
              "</table>\n",
              "</div>\n",
              "      <button class=\"colab-df-convert\" onclick=\"convertToInteractive('df-e8589071-50b6-40c7-a890-c3cede6a3578')\"\n",
              "              title=\"Convert this dataframe to an interactive table.\"\n",
              "              style=\"display:none;\">\n",
              "        \n",
              "  <svg xmlns=\"http://www.w3.org/2000/svg\" height=\"24px\"viewBox=\"0 0 24 24\"\n",
              "       width=\"24px\">\n",
              "    <path d=\"M0 0h24v24H0V0z\" fill=\"none\"/>\n",
              "    <path d=\"M18.56 5.44l.94 2.06.94-2.06 2.06-.94-2.06-.94-.94-2.06-.94 2.06-2.06.94zm-11 1L8.5 8.5l.94-2.06 2.06-.94-2.06-.94L8.5 2.5l-.94 2.06-2.06.94zm10 10l.94 2.06.94-2.06 2.06-.94-2.06-.94-.94-2.06-.94 2.06-2.06.94z\"/><path d=\"M17.41 7.96l-1.37-1.37c-.4-.4-.92-.59-1.43-.59-.52 0-1.04.2-1.43.59L10.3 9.45l-7.72 7.72c-.78.78-.78 2.05 0 2.83L4 21.41c.39.39.9.59 1.41.59.51 0 1.02-.2 1.41-.59l7.78-7.78 2.81-2.81c.8-.78.8-2.07 0-2.86zM5.41 20L4 18.59l7.72-7.72 1.47 1.35L5.41 20z\"/>\n",
              "  </svg>\n",
              "      </button>\n",
              "      \n",
              "  <style>\n",
              "    .colab-df-container {\n",
              "      display:flex;\n",
              "      flex-wrap:wrap;\n",
              "      gap: 12px;\n",
              "    }\n",
              "\n",
              "    .colab-df-convert {\n",
              "      background-color: #E8F0FE;\n",
              "      border: none;\n",
              "      border-radius: 50%;\n",
              "      cursor: pointer;\n",
              "      display: none;\n",
              "      fill: #1967D2;\n",
              "      height: 32px;\n",
              "      padding: 0 0 0 0;\n",
              "      width: 32px;\n",
              "    }\n",
              "\n",
              "    .colab-df-convert:hover {\n",
              "      background-color: #E2EBFA;\n",
              "      box-shadow: 0px 1px 2px rgba(60, 64, 67, 0.3), 0px 1px 3px 1px rgba(60, 64, 67, 0.15);\n",
              "      fill: #174EA6;\n",
              "    }\n",
              "\n",
              "    [theme=dark] .colab-df-convert {\n",
              "      background-color: #3B4455;\n",
              "      fill: #D2E3FC;\n",
              "    }\n",
              "\n",
              "    [theme=dark] .colab-df-convert:hover {\n",
              "      background-color: #434B5C;\n",
              "      box-shadow: 0px 1px 3px 1px rgba(0, 0, 0, 0.15);\n",
              "      filter: drop-shadow(0px 1px 2px rgba(0, 0, 0, 0.3));\n",
              "      fill: #FFFFFF;\n",
              "    }\n",
              "  </style>\n",
              "\n",
              "      <script>\n",
              "        const buttonEl =\n",
              "          document.querySelector('#df-e8589071-50b6-40c7-a890-c3cede6a3578 button.colab-df-convert');\n",
              "        buttonEl.style.display =\n",
              "          google.colab.kernel.accessAllowed ? 'block' : 'none';\n",
              "\n",
              "        async function convertToInteractive(key) {\n",
              "          const element = document.querySelector('#df-e8589071-50b6-40c7-a890-c3cede6a3578');\n",
              "          const dataTable =\n",
              "            await google.colab.kernel.invokeFunction('convertToInteractive',\n",
              "                                                     [key], {});\n",
              "          if (!dataTable) return;\n",
              "\n",
              "          const docLinkHtml = 'Like what you see? Visit the ' +\n",
              "            '<a target=\"_blank\" href=https://colab.research.google.com/notebooks/data_table.ipynb>data table notebook</a>'\n",
              "            + ' to learn more about interactive tables.';\n",
              "          element.innerHTML = '';\n",
              "          dataTable['output_type'] = 'display_data';\n",
              "          await google.colab.output.renderOutput(dataTable, element);\n",
              "          const docLink = document.createElement('div');\n",
              "          docLink.innerHTML = docLinkHtml;\n",
              "          element.appendChild(docLink);\n",
              "        }\n",
              "      </script>\n",
              "    </div>\n",
              "  </div>\n",
              "  "
            ]
          },
          "metadata": {},
          "execution_count": 5
        }
      ],
      "source": [
        "df.head(10)"
      ]
    },
    {
      "cell_type": "code",
      "execution_count": null,
      "metadata": {
        "colab": {
          "base_uri": "https://localhost:8080/"
        },
        "id": "5I31qAiZnRtG",
        "outputId": "07492527-b500-43c9-cc54-15546337f971"
      },
      "outputs": [
        {
          "output_type": "stream",
          "name": "stdout",
          "text": [
            "<class 'pandas.core.frame.DataFrame'>\n",
            "RangeIndex: 13169 entries, 0 to 13168\n",
            "Data columns (total 2 columns):\n",
            " #   Column  Non-Null Count  Dtype \n",
            "---  ------  --------------  ----- \n",
            " 0   tweet   13112 non-null  object\n",
            " 1   hs      13169 non-null  int64 \n",
            "dtypes: int64(1), object(1)\n",
            "memory usage: 205.9+ KB\n"
          ]
        }
      ],
      "source": [
        "df.info()"
      ]
    },
    {
      "cell_type": "code",
      "execution_count": null,
      "metadata": {
        "colab": {
          "base_uri": "https://localhost:8080/"
        },
        "id": "yuB_kDK4G4AY",
        "outputId": "164ec50a-61b6-4d92-c147-e0595f6bd33d"
      },
      "outputs": [
        {
          "output_type": "stream",
          "name": "stderr",
          "text": [
            "<ipython-input-7-2b6cd3af8553>:3: SettingWithCopyWarning: \n",
            "A value is trying to be set on a copy of a slice from a DataFrame.\n",
            "Try using .loc[row_indexer,col_indexer] = value instead\n",
            "\n",
            "See the caveats in the documentation: https://pandas.pydata.org/pandas-docs/stable/user_guide/indexing.html#returning-a-view-versus-a-copy\n",
            "  df['tweet'] = df['tweet'].astype(str)\n"
          ]
        }
      ],
      "source": [
        "# Small cleaning\n",
        "df = df.dropna()\n",
        "df['tweet'] = df['tweet'].astype(str) "
      ]
    },
    {
      "cell_type": "markdown",
      "metadata": {
        "id": "0e-g7GNzusqT"
      },
      "source": [
        "# **Explore**"
      ]
    },
    {
      "cell_type": "code",
      "execution_count": null,
      "metadata": {
        "colab": {
          "base_uri": "https://localhost:8080/"
        },
        "id": "o52u2bz2y1AI",
        "outputId": "f2ec1cfd-3a4b-4ae3-b818-db4306221763"
      },
      "outputs": [
        {
          "output_type": "execute_result",
          "data": {
            "text/plain": [
              "18706"
            ]
          },
          "metadata": {},
          "execution_count": 8
        }
      ],
      "source": [
        "# Word count\n",
        "wordcount = df['tweet'].str.split(expand = True).stack().nunique()\n",
        "wordcount"
      ]
    },
    {
      "cell_type": "code",
      "execution_count": null,
      "metadata": {
        "colab": {
          "base_uri": "https://localhost:8080/",
          "height": 410
        },
        "id": "8vNmF1TP248S",
        "outputId": "c801ad87-01d6-4b29-bf65-9db48eed0e59"
      },
      "outputs": [
        {
          "output_type": "display_data",
          "data": {
            "text/plain": [
              "<Figure size 576x432 with 1 Axes>"
            ],
            "image/png": "[encoded data removed]"
          },
          "metadata": {}
        }
      ],
      "source": [
        "# Class Distribution\n",
        "df['class'] = df['hs'].map({1: 'Hate Speech', 0:'Neutral'})\n",
        "sns.set_theme(style=\"whitegrid\")\n",
        "palette =  sns.color_palette('Spectral')\n",
        "palettes = [palette[1], palette[4]]\n",
        "fig, ax  = plt.subplots(figsize = (8,6))\n",
        "sns.countplot(x = 'class',  data = df, palette = palettes)\n",
        "ax.set_xlabel('Class')\n",
        "plt.title(\"Class Distribution\")\n",
        "plt.show()"
      ]
    },
    {
      "cell_type": "markdown",
      "metadata": {
        "id": "rq4kUGM75hN4"
      },
      "source": [
        "Classes is **slightly imbalanced**"
      ]
    },
    {
      "cell_type": "code",
      "execution_count": null,
      "metadata": {
        "colab": {
          "base_uri": "https://localhost:8080/",
          "height": 410
        },
        "id": "Ddo0As6g5wuR",
        "outputId": "289c5397-da38-4f3b-d455-a9cfdcb0e5c9"
      },
      "outputs": [
        {
          "output_type": "display_data",
          "data": {
            "text/plain": [
              "<Figure size 576x432 with 1 Axes>"
            ],
            "image/png": "[encoded data removed]"
          },
          "metadata": {}
        }
      ],
      "source": [
        "# Word length\n",
        "df['word_length'] = df['tweet'].apply(lambda x : word_count(x))\n",
        "fig, ax  = plt.subplots(figsize = (8,6))\n",
        "sns.boxplot(x = 'class', y = 'word_length',  data = df, palette = palettes)\n",
        "ax.set_xlabel('Class')\n",
        "ax.set_ylabel('Word Length')\n",
        "plt.title(\"Word Length Distribution\")\n",
        "plt.show()"
      ]
    },
    {
      "cell_type": "code",
      "execution_count": null,
      "metadata": {
        "colab": {
          "base_uri": "https://localhost:8080/",
          "height": 410
        },
        "id": "xIS_EDvj8UlW",
        "outputId": "a26f6152-bda3-432c-b63f-016a24c21d9b"
      },
      "outputs": [
        {
          "output_type": "display_data",
          "data": {
            "text/plain": [
              "<Figure size 576x432 with 1 Axes>"
            ],
            "image/png": "[encoded data removed]"
          },
          "metadata": {}
        }
      ],
      "source": [
        "# Character length\n",
        "df['char_length'] = char_count(df['tweet'])\n",
        "df.head()\n",
        "fig, ax  = plt.subplots(figsize = (8,6))\n",
        "sns.boxplot(x = 'class', y = 'char_length',  data = df, palette = palettes)\n",
        "ax.set_xlabel('Class')\n",
        "ax.set_ylabel('Character Length')\n",
        "plt.title(\"Character Length Distribution\")\n",
        "plt.show()"
      ]
    },
    {
      "cell_type": "markdown",
      "metadata": {
        "id": "KS4OOuOV8s6A"
      },
      "source": [
        "There is no big difference between **hate speech** and **neutral** class in terms of characters and words count."
      ]
    },
    {
      "cell_type": "markdown",
      "metadata": {
        "id": "XMDZPm2-BTsK"
      },
      "source": [
        "# **Modelling**"
      ]
    },
    {
      "cell_type": "code",
      "execution_count": null,
      "metadata": {
        "id": "nkmw24DZBncU"
      },
      "outputs": [],
      "source": [
        "# Modelling Libraries\n",
        "from sklearn.model_selection import train_test_split\n",
        "from sklearn.metrics import accuracy_score, f1_score, classification_report, recall_score\n",
        "from sklearn.feature_extraction.text import TfidfVectorizer"
      ]
    },
    {
      "cell_type": "markdown",
      "metadata": {
        "id": "I5jkxHIjCQvu"
      },
      "source": [
        "### Train Test Split"
      ]
    },
    {
      "cell_type": "code",
      "execution_count": null,
      "metadata": {
        "id": "0_LBvtl0B7in"
      },
      "outputs": [],
      "source": [
        "# Split Dataset\n",
        "X = df['tweet'].values\n",
        "y = df['hs'].values\n",
        "X_train, X_test, y_train, y_test = train_test_split(X, y, test_size=0.2, random_state=42, shuffle=True, stratify = y)"
      ]
    },
    {
      "cell_type": "markdown",
      "metadata": {
        "id": "HF8GLqOcD-nd"
      },
      "source": [
        "### Vectorizing"
      ]
    },
    {
      "cell_type": "code",
      "execution_count": null,
      "metadata": {
        "id": "SN8OYUQUCZZ1"
      },
      "outputs": [],
      "source": [
        "# Vectorizer\n",
        "tv = TfidfVectorizer()\n",
        "\n",
        "# Fit vectorizer\n",
        "tv.fit(X_train.tolist() + X_test.tolist())\n",
        "\n",
        "# Vectorize train\n",
        "v_train = tv.transform(X_train)\n",
        "\n",
        "# Vectorize test\n",
        "v_test = tv.transform(X_test)"
      ]
    },
    {
      "cell_type": "code",
      "execution_count": null,
      "metadata": {
        "colab": {
          "base_uri": "https://localhost:8080/"
        },
        "id": "T2TywZ6u7dsS",
        "outputId": "d44c3946-d7a1-4831-ee7c-ec31f143c413"
      },
      "outputs": [
        {
          "output_type": "execute_result",
          "data": {
            "text/plain": [
              "((10489, 18706), (2623, 18706))"
            ]
          },
          "metadata": {},
          "execution_count": 39
        }
      ],
      "source": [
        "v_train.shape, v_test.shape"
      ]
    },
    {
      "cell_type": "markdown",
      "metadata": {
        "id": "uCP7efQYMv7m"
      },
      "source": [
        "We can create a boundary to use only most frequent n-percent words, but for starting, we'll use all words as features. "
      ]
    },
    {
      "cell_type": "markdown",
      "metadata": {
        "id": "SptX62BcEr1H"
      },
      "source": [
        "### Model"
      ]
    },
    {
      "cell_type": "code",
      "execution_count": null,
      "metadata": {
        "id": "I4PTGV3DI5_F"
      },
      "outputs": [],
      "source": [
        "# Import model\n",
        "from sklearn.linear_model import LogisticRegression"
      ]
    },
    {
      "cell_type": "code",
      "source": [
        "# Logistic regression base model\n",
        "clf = LogisticRegression()"
      ],
      "metadata": {
        "id": "Y2mLXnUr2r4H"
      },
      "execution_count": null,
      "outputs": []
    },
    {
      "cell_type": "code",
      "source": [
        "# Model fit\n",
        "clf.fit(v_train, y_train)"
      ],
      "metadata": {
        "colab": {
          "base_uri": "https://localhost:8080/"
        },
        "id": "1EPK0b7R3AIs",
        "outputId": "5aa62ea2-7dfe-47f4-d871-236327d62bc7"
      },
      "execution_count": null,
      "outputs": [
        {
          "output_type": "execute_result",
          "data": {
            "text/plain": [
              "LogisticRegression()"
            ]
          },
          "metadata": {},
          "execution_count": 42
        }
      ]
    },
    {
      "cell_type": "markdown",
      "metadata": {
        "id": "jPaDVGo5eprN"
      },
      "source": [
        "# **Model Evaluation**"
      ]
    },
    {
      "cell_type": "code",
      "execution_count": null,
      "metadata": {
        "colab": {
          "base_uri": "https://localhost:8080/"
        },
        "id": "aODiokEQeKBZ",
        "outputId": "d9fe091f-0d7c-4147-b7b0-871f47870f06"
      },
      "outputs": [
        {
          "output_type": "stream",
          "name": "stdout",
          "text": [
            "Accuracy >0.823\n",
            "              precision    recall  f1-score   support\n",
            "\n",
            "  Hatespeech       0.81      0.90      0.85      1513\n",
            "     Neutral       0.84      0.72      0.77      1110\n",
            "\n",
            "    accuracy                           0.82      2623\n",
            "   macro avg       0.83      0.81      0.81      2623\n",
            "weighted avg       0.82      0.82      0.82      2623\n",
            "\n"
          ]
        }
      ],
      "source": [
        "# evaluate a model using repeated k-fold cross-validation\n",
        "yhat = clf.predict(v_test)\n",
        "\n",
        "# round probabilities to class labels\n",
        "yhat = yhat.round(0)\n",
        "\n",
        "# calculate accuracy\n",
        "acc = accuracy_score(y_test, yhat)\n",
        "result = classification_report(y_test, yhat, target_names = ['Hatespeech', 'Neutral'])\n",
        "\n",
        "# store result\n",
        "print('Accuracy >%.3f' % acc)\n",
        "print(result)"
      ]
    },
    {
      "cell_type": "code",
      "execution_count": null,
      "metadata": {
        "id": "cn8WW1_DkbMd"
      },
      "outputs": [],
      "source": [
        "# Evaluate every results\n",
        "df_test = pd.DataFrame({'tweet':X_test, 'hs':y_test})\n",
        "df_test['pred'] = yhat.flatten()\n",
        "df_test['pred'] = df_test['pred'].astype(int)\n",
        "fn = df_test[(df_test['hs'] == 1) & (df_test['pred'] == 0)]\n",
        "tp = df_test[(df_test['hs'] == 1) & (df_test['pred'] == 1)]\n",
        "tn = df_test[(df_test['hs'] == 0) & (df_test['pred'] == 0)]\n",
        "fp = df_test[(df_test['hs'] == 0) & (df_test['pred'] == 1)]"
      ]
    },
    {
      "cell_type": "markdown",
      "metadata": {
        "id": "cYj3pNrffEh3"
      },
      "source": [
        "`fn` = false negative,\n",
        "`fp` = false positive,\n",
        "`tn` = true negative,\n",
        "`tp` = true positive,"
      ]
    },
    {
      "cell_type": "code",
      "execution_count": null,
      "metadata": {
        "colab": {
          "base_uri": "https://localhost:8080/",
          "height": 424
        },
        "id": "nUkqAUvvnOE7",
        "outputId": "b1fde98f-5d86-4246-bbe3-332a697f614e"
      },
      "outputs": [
        {
          "output_type": "execute_result",
          "data": {
            "text/plain": [
              "                                                  tweet  hs  pred\n",
              "10    generasi tinja bgia pemimpin berkoar koar anti...   1     0\n",
              "19    apel malang impor apel cina amerika namanya ba...   1     0\n",
              "25    masyart tionghoa pancasialis orang jawa tereks...   1     0\n",
              "26    by the way ratu tiru afi hinayah diundang joko...   1     0\n",
              "52                                     bolot alias daki   1     0\n",
              "...                                                 ...  ..   ...\n",
              "2601                                 ih banci selotipan   1     0\n",
              "2612  hai setan operator tri bannya banyaknya antusi...   1     0\n",
              "2617                         diketeki onta bang sombong   1     0\n",
              "2619  prof fiksi menyinggung agama ramai penistaan b...   1     0\n",
              "2621  dokumen hasil tim pencari fakta munir hilang h...   1     0\n",
              "\n",
              "[316 rows x 3 columns]"
            ],
            "text/html": [
              "\n",
              "  <div id=\"df-b03d7e6b-4622-417a-94bc-44db2590e53a\">\n",
              "    <div class=\"colab-df-container\">\n",
              "      <div>\n",
              "<style scoped>\n",
              "    .dataframe tbody tr th:only-of-type {\n",
              "        vertical-align: middle;\n",
              "    }\n",
              "\n",
              "    .dataframe tbody tr th {\n",
              "        vertical-align: top;\n",
              "    }\n",
              "\n",
              "    .dataframe thead th {\n",
              "        text-align: right;\n",
              "    }\n",
              "</style>\n",
              "<table border=\"1\" class=\"dataframe\">\n",
              "  <thead>\n",
              "    <tr style=\"text-align: right;\">\n",
              "      <th></th>\n",
              "      <th>tweet</th>\n",
              "      <th>hs</th>\n",
              "      <th>pred</th>\n",
              "    </tr>\n",
              "  </thead>\n",
              "  <tbody>\n",
              "    <tr>\n",
              "      <th>10</th>\n",
              "      <td>generasi tinja bgia pemimpin berkoar koar anti...</td>\n",
              "      <td>1</td>\n",
              "      <td>0</td>\n",
              "    </tr>\n",
              "    <tr>\n",
              "      <th>19</th>\n",
              "      <td>apel malang impor apel cina amerika namanya ba...</td>\n",
              "      <td>1</td>\n",
              "      <td>0</td>\n",
              "    </tr>\n",
              "    <tr>\n",
              "      <th>25</th>\n",
              "      <td>masyart tionghoa pancasialis orang jawa tereks...</td>\n",
              "      <td>1</td>\n",
              "      <td>0</td>\n",
              "    </tr>\n",
              "    <tr>\n",
              "      <th>26</th>\n",
              "      <td>by the way ratu tiru afi hinayah diundang joko...</td>\n",
              "      <td>1</td>\n",
              "      <td>0</td>\n",
              "    </tr>\n",
              "    <tr>\n",
              "      <th>52</th>\n",
              "      <td>bolot alias daki</td>\n",
              "      <td>1</td>\n",
              "      <td>0</td>\n",
              "    </tr>\n",
              "    <tr>\n",
              "      <th>...</th>\n",
              "      <td>...</td>\n",
              "      <td>...</td>\n",
              "      <td>...</td>\n",
              "    </tr>\n",
              "    <tr>\n",
              "      <th>2601</th>\n",
              "      <td>ih banci selotipan</td>\n",
              "      <td>1</td>\n",
              "      <td>0</td>\n",
              "    </tr>\n",
              "    <tr>\n",
              "      <th>2612</th>\n",
              "      <td>hai setan operator tri bannya banyaknya antusi...</td>\n",
              "      <td>1</td>\n",
              "      <td>0</td>\n",
              "    </tr>\n",
              "    <tr>\n",
              "      <th>2617</th>\n",
              "      <td>diketeki onta bang sombong</td>\n",
              "      <td>1</td>\n",
              "      <td>0</td>\n",
              "    </tr>\n",
              "    <tr>\n",
              "      <th>2619</th>\n",
              "      <td>prof fiksi menyinggung agama ramai penistaan b...</td>\n",
              "      <td>1</td>\n",
              "      <td>0</td>\n",
              "    </tr>\n",
              "    <tr>\n",
              "      <th>2621</th>\n",
              "      <td>dokumen hasil tim pencari fakta munir hilang h...</td>\n",
              "      <td>1</td>\n",
              "      <td>0</td>\n",
              "    </tr>\n",
              "  </tbody>\n",
              "</table>\n",
              "<p>316 rows × 3 columns</p>\n",
              "</div>\n",
              "      <button class=\"colab-df-convert\" onclick=\"convertToInteractive('df-b03d7e6b-4622-417a-94bc-44db2590e53a')\"\n",
              "              title=\"Convert this dataframe to an interactive table.\"\n",
              "              style=\"display:none;\">\n",
              "        \n",
              "  <svg xmlns=\"http://www.w3.org/2000/svg\" height=\"24px\"viewBox=\"0 0 24 24\"\n",
              "       width=\"24px\">\n",
              "    <path d=\"M0 0h24v24H0V0z\" fill=\"none\"/>\n",
              "    <path d=\"M18.56 5.44l.94 2.06.94-2.06 2.06-.94-2.06-.94-.94-2.06-.94 2.06-2.06.94zm-11 1L8.5 8.5l.94-2.06 2.06-.94-2.06-.94L8.5 2.5l-.94 2.06-2.06.94zm10 10l.94 2.06.94-2.06 2.06-.94-2.06-.94-.94-2.06-.94 2.06-2.06.94z\"/><path d=\"M17.41 7.96l-1.37-1.37c-.4-.4-.92-.59-1.43-.59-.52 0-1.04.2-1.43.59L10.3 9.45l-7.72 7.72c-.78.78-.78 2.05 0 2.83L4 21.41c.39.39.9.59 1.41.59.51 0 1.02-.2 1.41-.59l7.78-7.78 2.81-2.81c.8-.78.8-2.07 0-2.86zM5.41 20L4 18.59l7.72-7.72 1.47 1.35L5.41 20z\"/>\n",
              "  </svg>\n",
              "      </button>\n",
              "      \n",
              "  <style>\n",
              "    .colab-df-container {\n",
              "      display:flex;\n",
              "      flex-wrap:wrap;\n",
              "      gap: 12px;\n",
              "    }\n",
              "\n",
              "    .colab-df-convert {\n",
              "      background-color: #E8F0FE;\n",
              "      border: none;\n",
              "      border-radius: 50%;\n",
              "      cursor: pointer;\n",
              "      display: none;\n",
              "      fill: #1967D2;\n",
              "      height: 32px;\n",
              "      padding: 0 0 0 0;\n",
              "      width: 32px;\n",
              "    }\n",
              "\n",
              "    .colab-df-convert:hover {\n",
              "      background-color: #E2EBFA;\n",
              "      box-shadow: 0px 1px 2px rgba(60, 64, 67, 0.3), 0px 1px 3px 1px rgba(60, 64, 67, 0.15);\n",
              "      fill: #174EA6;\n",
              "    }\n",
              "\n",
              "    [theme=dark] .colab-df-convert {\n",
              "      background-color: #3B4455;\n",
              "      fill: #D2E3FC;\n",
              "    }\n",
              "\n",
              "    [theme=dark] .colab-df-convert:hover {\n",
              "      background-color: #434B5C;\n",
              "      box-shadow: 0px 1px 3px 1px rgba(0, 0, 0, 0.15);\n",
              "      filter: drop-shadow(0px 1px 2px rgba(0, 0, 0, 0.3));\n",
              "      fill: #FFFFFF;\n",
              "    }\n",
              "  </style>\n",
              "\n",
              "      <script>\n",
              "        const buttonEl =\n",
              "          document.querySelector('#df-b03d7e6b-4622-417a-94bc-44db2590e53a button.colab-df-convert');\n",
              "        buttonEl.style.display =\n",
              "          google.colab.kernel.accessAllowed ? 'block' : 'none';\n",
              "\n",
              "        async function convertToInteractive(key) {\n",
              "          const element = document.querySelector('#df-b03d7e6b-4622-417a-94bc-44db2590e53a');\n",
              "          const dataTable =\n",
              "            await google.colab.kernel.invokeFunction('convertToInteractive',\n",
              "                                                     [key], {});\n",
              "          if (!dataTable) return;\n",
              "\n",
              "          const docLinkHtml = 'Like what you see? Visit the ' +\n",
              "            '<a target=\"_blank\" href=https://colab.research.google.com/notebooks/data_table.ipynb>data table notebook</a>'\n",
              "            + ' to learn more about interactive tables.';\n",
              "          element.innerHTML = '';\n",
              "          dataTable['output_type'] = 'display_data';\n",
              "          await google.colab.output.renderOutput(dataTable, element);\n",
              "          const docLink = document.createElement('div');\n",
              "          docLink.innerHTML = docLinkHtml;\n",
              "          element.appendChild(docLink);\n",
              "        }\n",
              "      </script>\n",
              "    </div>\n",
              "  </div>\n",
              "  "
            ]
          },
          "metadata": {},
          "execution_count": 47
        }
      ],
      "source": [
        "fn"
      ]
    },
    {
      "cell_type": "code",
      "execution_count": null,
      "metadata": {
        "colab": {
          "base_uri": "https://localhost:8080/"
        },
        "id": "_Q7IaPPL082z",
        "outputId": "fbb6ea59-7c2b-4348-af3d-6cb15b2eed73"
      },
      "outputs": [
        {
          "data": {
            "text/plain": [
              "array(['generasi tinja bgia pemimpin berkoar koar anti asing jaman pilihan kepala daerah selesai pilihan kepala daerah pengikutnya membela tinja asing enak',\n",
              "       'apel malang impor apel cina amerika namanya bangga produk indonesia',\n",
              "       'masyart tionghoa pancasialis orang jawa terekspos contoh nyata kwik ekonom ustaz felix siauw',\n",
              "       'by the way ratu tiru afi hinayah diundang jokowi istana posting tiru mengancam bunuh allah',\n",
              "       'bolot alias daki', 'menteri soeharto homo',\n",
              "       'ah dibayari negeri mengeluh dasar bersyukur kontol',\n",
              "       'bawa perasaan bang cebong pejuang bawa perasaan',\n",
              "       'prabowo lolos jerat hukum anggota tim mr dijatuhi hukuman pidana penjara dkp',\n",
              "       'cacat ican goblok',\n",
              "       'tai doang belaganya selangit karma idol flop gue ket keras',\n",
              "       'mas joko kelakuan otoriter habis rakyat rezim sadam dafi as sisi mk bro',\n",
              "       'tau princess udik',\n",
              "       'senang hati cewek dilepaskan mbaknya angkutan mbaknya gang bang pemerkosa kunyuk selesai mbaknya mobilnya marah pergi bilang pemerkosa',\n",
              "       'ayo umat islam pintar percaya aksi hubungannya pilihan kepala daerah pi agus harimurti yudhoyono bayar anies untung ude',\n",
              "       'becak warga binjai disita gunn tenda bertuliskan ganti presiden partai keadilan sejahtera meradang bukti pemerintah panik takut',\n",
              "       'mesti diproyen asing nasionalis pancasilais pilih asing antek asing',\n",
              "       'suasana stq tingkat kabupaten ntt masjid mimbar dana swasembada umat islam nama pemerintah daerah musabaqah tilawatil quran tingkat propinsi ntt menyedin ganti presiden',\n",
              "       'ayo muslim hantam lgbt rakyat pm dibuang islam parmusi dorong rancangan undang undang anti pm lgbt',\n",
              "       'menjabat menteri agama mudah injil ditulis manusia'], dtype=object)"
            ]
          },
          "execution_count": 20,
          "metadata": {},
          "output_type": "execute_result"
        }
      ],
      "source": [
        "fn['tweet'].unique()[:20]"
      ]
    },
    {
      "cell_type": "code",
      "execution_count": null,
      "metadata": {
        "colab": {
          "base_uri": "https://localhost:8080/"
        },
        "id": "jVgtDaM6c6j9",
        "outputId": "f2db5122-5f26-4d53-a539-4ea8c9254095"
      },
      "outputs": [
        {
          "data": {
            "text/plain": [
              "array([\"USER USER Ketika generasi tinja sangat bahagia pemimpin nya bisa berkoar koar anti aseng di jaman pilkada dan ketika selesai pilkada pengikutnya membela bahwa tinja nya aseng enak'\"],\n",
              "      dtype=object)"
            ]
          },
          "execution_count": 21,
          "metadata": {},
          "output_type": "execute_result"
        }
      ],
      "source": [
        "raw[raw['Tweet'].str.contains('generasi tinja', case = False)]['Tweet'].unique()"
      ]
    },
    {
      "cell_type": "code",
      "execution_count": null,
      "metadata": {
        "colab": {
          "base_uri": "https://localhost:8080/"
        },
        "id": "TyqfaEtwdtWI",
        "outputId": "e07fb0f3-03ca-406f-fc50-a62a9230eaab"
      },
      "outputs": [
        {
          "data": {
            "text/plain": [
              "array(['Btw si ratu tiru afi hinayah yang udah diundang jokowi ke istana posting tiru lagi yes. Ntar mengancam mau bunuh diri. Ya Alloh.'],\n",
              "      dtype=object)"
            ]
          },
          "execution_count": 22,
          "metadata": {},
          "output_type": "execute_result"
        }
      ],
      "source": [
        "raw[raw['Tweet'].str.contains('ratu tiru', case = False)]['Tweet'].unique()"
      ]
    },
    {
      "cell_type": "code",
      "execution_count": null,
      "metadata": {
        "colab": {
          "base_uri": "https://localhost:8080/",
          "height": 424
        },
        "id": "l-gQmJrzCerx",
        "outputId": "20497dc3-3a8f-4667-9951-7bd8699089d4"
      },
      "outputs": [
        {
          "data": {
            "text/html": [
              "\n",
              "  <div id=\"df-606b235b-98cb-4d03-b251-41daf2d5a48a\">\n",
              "    <div class=\"colab-df-container\">\n",
              "      <div>\n",
              "<style scoped>\n",
              "    .dataframe tbody tr th:only-of-type {\n",
              "        vertical-align: middle;\n",
              "    }\n",
              "\n",
              "    .dataframe tbody tr th {\n",
              "        vertical-align: top;\n",
              "    }\n",
              "\n",
              "    .dataframe thead th {\n",
              "        text-align: right;\n",
              "    }\n",
              "</style>\n",
              "<table border=\"1\" class=\"dataframe\">\n",
              "  <thead>\n",
              "    <tr style=\"text-align: right;\">\n",
              "      <th></th>\n",
              "      <th>tweet</th>\n",
              "      <th>hs</th>\n",
              "      <th>pred</th>\n",
              "    </tr>\n",
              "  </thead>\n",
              "  <tbody>\n",
              "    <tr>\n",
              "      <th>13</th>\n",
              "      <td>kejang kejang bong keren dewasa malu memalukan</td>\n",
              "      <td>0</td>\n",
              "      <td>1</td>\n",
              "    </tr>\n",
              "    <tr>\n",
              "      <th>17</th>\n",
              "      <td>pilihan kepala daerah daerah khusus ibukota di...</td>\n",
              "      <td>0</td>\n",
              "      <td>1</td>\n",
              "    </tr>\n",
              "    <tr>\n",
              "      <th>63</th>\n",
              "      <td>salah alasan presiden malu in bangsa iniiii</td>\n",
              "      <td>0</td>\n",
              "      <td>1</td>\n",
              "    </tr>\n",
              "    <tr>\n",
              "      <th>70</th>\n",
              "      <td>maksud jor joran pinjaman ib merebut simpati r...</td>\n",
              "      <td>0</td>\n",
              "      <td>1</td>\n",
              "    </tr>\n",
              "    <tr>\n",
              "      <th>85</th>\n",
              "      <td>sepupu bos gue facebook namanya sin ting orang...</td>\n",
              "      <td>0</td>\n",
              "      <td>1</td>\n",
              "    </tr>\n",
              "    <tr>\n",
              "      <th>...</th>\n",
              "      <td>...</td>\n",
              "      <td>...</td>\n",
              "      <td>...</td>\n",
              "    </tr>\n",
              "    <tr>\n",
              "      <th>2596</th>\n",
              "      <td>yli tentara nasional indonesia suruh uruskan s...</td>\n",
              "      <td>0</td>\n",
              "      <td>1</td>\n",
              "    </tr>\n",
              "    <tr>\n",
              "      <th>2603</th>\n",
              "      <td>direct message pakai capslock bilang gue cocot</td>\n",
              "      <td>0</td>\n",
              "      <td>1</td>\n",
              "    </tr>\n",
              "    <tr>\n",
              "      <th>2607</th>\n",
              "      <td>terdesak kehancuran kampret kian melemah terde...</td>\n",
              "      <td>0</td>\n",
              "      <td>1</td>\n",
              "    </tr>\n",
              "    <tr>\n",
              "      <th>2608</th>\n",
              "      <td>doa bangsa rin islam partai keadilan sejahtera...</td>\n",
              "      <td>0</td>\n",
              "      <td>1</td>\n",
              "    </tr>\n",
              "    <tr>\n",
              "      <th>2614</th>\n",
              "      <td>menyebut jokowi antek asing wkwk</td>\n",
              "      <td>0</td>\n",
              "      <td>1</td>\n",
              "    </tr>\n",
              "  </tbody>\n",
              "</table>\n",
              "<p>168 rows × 3 columns</p>\n",
              "</div>\n",
              "      <button class=\"colab-df-convert\" onclick=\"convertToInteractive('df-606b235b-98cb-4d03-b251-41daf2d5a48a')\"\n",
              "              title=\"Convert this dataframe to an interactive table.\"\n",
              "              style=\"display:none;\">\n",
              "        \n",
              "  <svg xmlns=\"http://www.w3.org/2000/svg\" height=\"24px\"viewBox=\"0 0 24 24\"\n",
              "       width=\"24px\">\n",
              "    <path d=\"M0 0h24v24H0V0z\" fill=\"none\"/>\n",
              "    <path d=\"M18.56 5.44l.94 2.06.94-2.06 2.06-.94-2.06-.94-.94-2.06-.94 2.06-2.06.94zm-11 1L8.5 8.5l.94-2.06 2.06-.94-2.06-.94L8.5 2.5l-.94 2.06-2.06.94zm10 10l.94 2.06.94-2.06 2.06-.94-2.06-.94-.94-2.06-.94 2.06-2.06.94z\"/><path d=\"M17.41 7.96l-1.37-1.37c-.4-.4-.92-.59-1.43-.59-.52 0-1.04.2-1.43.59L10.3 9.45l-7.72 7.72c-.78.78-.78 2.05 0 2.83L4 21.41c.39.39.9.59 1.41.59.51 0 1.02-.2 1.41-.59l7.78-7.78 2.81-2.81c.8-.78.8-2.07 0-2.86zM5.41 20L4 18.59l7.72-7.72 1.47 1.35L5.41 20z\"/>\n",
              "  </svg>\n",
              "      </button>\n",
              "      \n",
              "  <style>\n",
              "    .colab-df-container {\n",
              "      display:flex;\n",
              "      flex-wrap:wrap;\n",
              "      gap: 12px;\n",
              "    }\n",
              "\n",
              "    .colab-df-convert {\n",
              "      background-color: #E8F0FE;\n",
              "      border: none;\n",
              "      border-radius: 50%;\n",
              "      cursor: pointer;\n",
              "      display: none;\n",
              "      fill: #1967D2;\n",
              "      height: 32px;\n",
              "      padding: 0 0 0 0;\n",
              "      width: 32px;\n",
              "    }\n",
              "\n",
              "    .colab-df-convert:hover {\n",
              "      background-color: #E2EBFA;\n",
              "      box-shadow: 0px 1px 2px rgba(60, 64, 67, 0.3), 0px 1px 3px 1px rgba(60, 64, 67, 0.15);\n",
              "      fill: #174EA6;\n",
              "    }\n",
              "\n",
              "    [theme=dark] .colab-df-convert {\n",
              "      background-color: #3B4455;\n",
              "      fill: #D2E3FC;\n",
              "    }\n",
              "\n",
              "    [theme=dark] .colab-df-convert:hover {\n",
              "      background-color: #434B5C;\n",
              "      box-shadow: 0px 1px 3px 1px rgba(0, 0, 0, 0.15);\n",
              "      filter: drop-shadow(0px 1px 2px rgba(0, 0, 0, 0.3));\n",
              "      fill: #FFFFFF;\n",
              "    }\n",
              "  </style>\n",
              "\n",
              "      <script>\n",
              "        const buttonEl =\n",
              "          document.querySelector('#df-606b235b-98cb-4d03-b251-41daf2d5a48a button.colab-df-convert');\n",
              "        buttonEl.style.display =\n",
              "          google.colab.kernel.accessAllowed ? 'block' : 'none';\n",
              "\n",
              "        async function convertToInteractive(key) {\n",
              "          const element = document.querySelector('#df-606b235b-98cb-4d03-b251-41daf2d5a48a');\n",
              "          const dataTable =\n",
              "            await google.colab.kernel.invokeFunction('convertToInteractive',\n",
              "                                                     [key], {});\n",
              "          if (!dataTable) return;\n",
              "\n",
              "          const docLinkHtml = 'Like what you see? Visit the ' +\n",
              "            '<a target=\"_blank\" href=https://colab.research.google.com/notebooks/data_table.ipynb>data table notebook</a>'\n",
              "            + ' to learn more about interactive tables.';\n",
              "          element.innerHTML = '';\n",
              "          dataTable['output_type'] = 'display_data';\n",
              "          await google.colab.output.renderOutput(dataTable, element);\n",
              "          const docLink = document.createElement('div');\n",
              "          docLink.innerHTML = docLinkHtml;\n",
              "          element.appendChild(docLink);\n",
              "        }\n",
              "      </script>\n",
              "    </div>\n",
              "  </div>\n",
              "  "
            ],
            "text/plain": [
              "                                                  tweet  hs  pred\n",
              "13       kejang kejang bong keren dewasa malu memalukan   0     1\n",
              "17    pilihan kepala daerah daerah khusus ibukota di...   0     1\n",
              "63          salah alasan presiden malu in bangsa iniiii   0     1\n",
              "70    maksud jor joran pinjaman ib merebut simpati r...   0     1\n",
              "85    sepupu bos gue facebook namanya sin ting orang...   0     1\n",
              "...                                                 ...  ..   ...\n",
              "2596  yli tentara nasional indonesia suruh uruskan s...   0     1\n",
              "2603     direct message pakai capslock bilang gue cocot   0     1\n",
              "2607  terdesak kehancuran kampret kian melemah terde...   0     1\n",
              "2608  doa bangsa rin islam partai keadilan sejahtera...   0     1\n",
              "2614                   menyebut jokowi antek asing wkwk   0     1\n",
              "\n",
              "[168 rows x 3 columns]"
            ]
          },
          "execution_count": 23,
          "metadata": {},
          "output_type": "execute_result"
        }
      ],
      "source": [
        "fp"
      ]
    },
    {
      "cell_type": "code",
      "execution_count": null,
      "metadata": {
        "colab": {
          "base_uri": "https://localhost:8080/"
        },
        "id": "_aNWWoUaCiPt",
        "outputId": "8aaaac9c-a92d-4b81-d47a-a7735d915bb1"
      },
      "outputs": [
        {
          "data": {
            "text/plain": [
              "array(['kejang kejang bong keren dewasa malu memalukan',\n",
              "       'pilihan kepala daerah daerah khusus ibukota dinyatn ahok elektabilitasnya calon tunggal mengaln ahok cukong lupa media media sosial dimonopoli kebenaran maju calon gubernur daerah khusus ibukota elektabilitas ahok tergerus',\n",
              "       'salah alasan presiden malu in bangsa iniiii',\n",
              "       'maksud jor joran pinjaman ib merebut simpati rakyat bombardir media freepomilik indonesia isu got sulit digoreng bertransformasi rezim mainlah teknologi got tin',\n",
              "       'sepupu bos gue facebook namanya sin ting orang indonesia baca nama facebook wa ng nirnya wa bilang sinting indonesia crazy tert',\n",
              "       'kalimat bacot doang buktikan kalimatnya maaf kasih solusi butuh',\n",
              "       'bajingan tengik',\n",
              "       'ekspresi pas kaget teriak ayam ayam cebong cebong cebong',\n",
              "       'il sekretariat jenderal mengaku kaget munculnya deklarasi reln mendukung mantan panglima tentara nasional indonesia ketua partai kebangkitan bangsa maju pemilihan presiden pemilihan presiden partai kebangkitan bangsa nomor cakiminthene',\n",
              "       'untung mengakui komunis mengakui ateis',\n",
              "       'anjing anjing anjing mencuri manusia',\n",
              "       'najis main ml kalah mulu teman buta map jebol push',\n",
              "       'habis gue diserbu mampus', 'najis gue lihatnya',\n",
              "       'remukkan rengginang cocot ah', 'senpai senpai celeng cari duit',\n",
              "       'cina pakai nada anu hem', 'renjun cina', 'babi sial marah',\n",
              "       'dibelng busuk sampah'], dtype=object)"
            ]
          },
          "execution_count": 24,
          "metadata": {},
          "output_type": "execute_result"
        }
      ],
      "source": [
        "fp['tweet'].unique()[:20]"
      ]
    },
    {
      "cell_type": "markdown",
      "metadata": {
        "id": "WlcyzNJWqzLk"
      },
      "source": [
        "### Unigram"
      ]
    },
    {
      "cell_type": "code",
      "execution_count": null,
      "metadata": {
        "colab": {
          "base_uri": "https://localhost:8080/"
        },
        "id": "_wAS6qQM2alw",
        "outputId": "f3a2a7c4-6d2b-419b-889d-53c9c2fc3580"
      },
      "outputs": [
        {
          "data": {
            "text/plain": [
              "indonesia    32\n",
              "orang        32\n",
              "presiden     30\n",
              "gue          28\n",
              "asing        23\n",
              "agama        20\n",
              "islam        19\n",
              "jokowi       18\n",
              "ganti        14\n",
              "tai          13\n",
              "partai       13\n",
              "komunis      13\n",
              "masuk        12\n",
              "kerja        11\n",
              "ulama        10\n",
              "monyet       10\n",
              "anak         10\n",
              "cina         10\n",
              "tau          10\n",
              "hati          9\n",
              "antek         9\n",
              "nama          9\n",
              "allah         8\n",
              "kafir         8\n",
              "rakyat        8\n",
              "muslim        8\n",
              "negara        8\n",
              "gubernur      8\n",
              "umat          8\n",
              "cacat         7\n",
              "dtype: int64"
            ]
          },
          "execution_count": 25,
          "metadata": {},
          "output_type": "execute_result"
        }
      ],
      "source": [
        "# False negative unigram\n",
        "unigram(fn)"
      ]
    },
    {
      "cell_type": "code",
      "execution_count": null,
      "metadata": {
        "colab": {
          "base_uri": "https://localhost:8080/"
        },
        "id": "cde6dR_P3OGx",
        "outputId": "15982d8c-9de4-4194-ab00-bf9164f2db6a"
      },
      "outputs": [
        {
          "data": {
            "text/plain": [
              "presiden     25\n",
              "indonesia    19\n",
              "ganti        16\n",
              "gue          16\n",
              "orang        16\n",
              "cina         15\n",
              "rakyat       12\n",
              "rezim        12\n",
              "islam        12\n",
              "partai       11\n",
              "negara       10\n",
              "jokowi       10\n",
              "asing         9\n",
              "bangsa        9\n",
              "cebong        9\n",
              "komunis       8\n",
              "babi          8\n",
              "bilang        8\n",
              "ahok          7\n",
              "mengakui      7\n",
              "suka          7\n",
              "bangsat       7\n",
              "kampret       6\n",
              "banci         6\n",
              "antek         6\n",
              "bajingan      6\n",
              "goblok        6\n",
              "biar          6\n",
              "bacot         6\n",
              "ulama         6\n",
              "dtype: int64"
            ]
          },
          "execution_count": 26,
          "metadata": {},
          "output_type": "execute_result"
        }
      ],
      "source": [
        "# False positive unigram\n",
        "unigram(fp)"
      ]
    },
    {
      "cell_type": "code",
      "execution_count": null,
      "metadata": {
        "colab": {
          "base_uri": "https://localhost:8080/"
        },
        "id": "cX5iP0B03knn",
        "outputId": "6155e47c-412d-4f69-8c29-27bd6b8aa3ea"
      },
      "outputs": [
        {
          "data": {
            "text/plain": [
              "array(['untung mengakui komunis mengakui ateis',\n",
              "       'maklumlah pm zionis gabung komunis',\n",
              "       'hai pendukung hitler komunis', 'partai komunis indonesia bangkit',\n",
              "       'komunisme fm fasisme negara komunis berpotensi bangsa fasis cina uni soviet bangsa bangsa non rusia non slavia tepatnya dibunuh',\n",
              "       'warga negara indonesia bangga nini bilang soekarno partai komunis indonesia marah',\n",
              "       'perpolitikan negara butuh partai komunis biar ujung kebin pemerintah minimal sosialis logikanya aset negara tangan privat',\n",
              "       'tumbang sukses mengadu domba komunis liberalis pusing sang perancang perang tampil bangsa pemenang'],\n",
              "      dtype=object)"
            ]
          },
          "execution_count": 27,
          "metadata": {},
          "output_type": "execute_result"
        }
      ],
      "source": [
        "check('komunis', fp)"
      ]
    },
    {
      "cell_type": "markdown",
      "metadata": {
        "id": "kzQZH8Psq_D5"
      },
      "source": [
        "### Bigram"
      ]
    },
    {
      "cell_type": "code",
      "execution_count": null,
      "metadata": {
        "colab": {
          "base_uri": "https://localhost:8080/"
        },
        "id": "0NpPacyh4d7U",
        "outputId": "e7caeb65-d07e-4e5d-e32c-a22f1e3c28ed"
      },
      "outputs": [
        {
          "data": {
            "text/plain": [
              "[('ganti presiden', 7),\n",
              " ('dewan perwakilan', 4),\n",
              " ('perwakilan rakyat', 4),\n",
              " ('daerah khusus', 3),\n",
              " ('khusus ibukota', 3),\n",
              " ('pemilihan presiden', 3),\n",
              " ('calon presiden', 3),\n",
              " ('partai komunis', 3),\n",
              " ('media sosial', 2),\n",
              " ('cebong cebong', 2),\n",
              " ('tentara nasional', 2),\n",
              " ('nasional indonesia', 2),\n",
              " ('partai kebangkitan', 2),\n",
              " ('kebangkitan bangsa', 2),\n",
              " ('bangsa maju', 2),\n",
              " ('anjing anjing', 2),\n",
              " ('rezim jokowi', 2),\n",
              " ('republik indonesia', 2),\n",
              " ('antek antek', 2),\n",
              " ('ayat sibuk', 2)]"
            ]
          },
          "execution_count": 28,
          "metadata": {},
          "output_type": "execute_result"
        }
      ],
      "source": [
        "# False positive bigram\n",
        "bigrams_fp = get_top_n_gram(fp['tweet'], (2,2), 20)\n",
        "bigrams_fp"
      ]
    },
    {
      "cell_type": "code",
      "execution_count": null,
      "metadata": {
        "colab": {
          "base_uri": "https://localhost:8080/"
        },
        "id": "sjsg180UogPx",
        "outputId": "270b4a5c-bda8-4cb3-a5ac-b99388cf4107"
      },
      "outputs": [
        {
          "data": {
            "text/plain": [
              "array(['opung tenaga kerja cina skill khusus buruh pribumi layak membangun proyek pemerintah tenaga kerja asing cina terampil labour juta lapangan pekern'],\n",
              "      dtype=object)"
            ]
          },
          "execution_count": 29,
          "metadata": {},
          "output_type": "execute_result"
        }
      ],
      "source": [
        "check('tenaga kerja', fp)"
      ]
    },
    {
      "cell_type": "code",
      "execution_count": null,
      "metadata": {
        "colab": {
          "base_uri": "https://localhost:8080/"
        },
        "id": "CKlnZ4xNrsxs",
        "outputId": "b9d32ed9-56f0-4346-bd00-9d40c9ada315"
      },
      "outputs": [
        {
          "data": {
            "text/plain": [
              "[('ganti presiden', 14),\n",
              " ('umat islam', 6),\n",
              " ('tenaga kerja', 6),\n",
              " ('asing asing', 5),\n",
              " ('pilihan kepala', 4),\n",
              " ('kepala daerah', 4),\n",
              " ('kerja asing', 4),\n",
              " ('tambang indonesia', 4),\n",
              " ('bawa perasaan', 3),\n",
              " ('partai keadilan', 3),\n",
              " ('keadilan sejahtera', 3),\n",
              " ('kh hasyim', 3),\n",
              " ('mengancam bunuh', 2),\n",
              " ('menteri agama', 2),\n",
              " ('orang islam', 2),\n",
              " ('libur lebaran', 2),\n",
              " ('islam nusantara', 2),\n",
              " ('nusantara produk', 2),\n",
              " ('produk jil', 2),\n",
              " ('jil dipasarkan', 2)]"
            ]
          },
          "execution_count": 30,
          "metadata": {},
          "output_type": "execute_result"
        }
      ],
      "source": [
        "# False negative bigram\n",
        "bigrams_fn = get_top_n_gram(fn['tweet'], (2,2), 20)\n",
        "bigrams_fn"
      ]
    },
    {
      "cell_type": "code",
      "execution_count": null,
      "metadata": {
        "colab": {
          "base_uri": "https://localhost:8080/"
        },
        "id": "VJ_4i14Dr5sP",
        "outputId": "8bf14ff8-64a5-4bfc-fbca-8108002c94bd"
      },
      "outputs": [
        {
          "data": {
            "text/plain": [
              "[('partai komunis', 64),\n",
              " ('komunis indonesia', 63),\n",
              " ('ganti presiden', 54),\n",
              " ('lengserkan jokowi', 28),\n",
              " ('pemberantasan korupsi', 27),\n",
              " ('komisi pemberantasan', 26),\n",
              " ('republik indonesia', 22),\n",
              " ('susilo bambang', 21),\n",
              " ('bambang yudhoyono', 21),\n",
              " ('dewan perwakilan', 21),\n",
              " ('perwakilan rakyat', 21),\n",
              " ('anies sandi', 19),\n",
              " ('penista agama', 18),\n",
              " ('plonga plongo', 15),\n",
              " ('partai demokrasi', 14),\n",
              " ('demokrasi indonesia', 14),\n",
              " ('presiden ganti', 14),\n",
              " ('indonesia perjuangan', 13),\n",
              " ('allah subhanahu', 13),\n",
              " ('subhanahu wa', 13)]"
            ]
          },
          "execution_count": 31,
          "metadata": {},
          "output_type": "execute_result"
        }
      ],
      "source": [
        "# True positive bigram\n",
        "bigrams_tp = get_top_n_gram(tp['tweet'], (2,2), 20)\n",
        "bigrams_tp"
      ]
    },
    {
      "cell_type": "code",
      "execution_count": null,
      "metadata": {
        "colab": {
          "base_uri": "https://localhost:8080/"
        },
        "id": "9lmmdcVlsO58",
        "outputId": "f796204b-e649-4202-b4cb-dfdf2a238092"
      },
      "outputs": [
        {
          "data": {
            "text/plain": [
              "array(['bermasalah partai komunis indonesia angkatan darat menggern massa anti jokowi isu isu anti agama komunis',\n",
              "       'isu partai komunis indonesia hembuskan grup grup pendukung prabowo',\n",
              "       'partai komunis indonesia gaya jokowi antek komunis',\n",
              "       'sumbu pendek jokowi koalisi negara partai komunis indonesia jokowi partai komunis indonesia lengserkan jokowi pusing hamba',\n",
              "       'gerombolan rizieq front pembela islam memainkan isu pemerintah jokowi pro partai komunis indonesia',\n",
              "       'takut ganyang partai komunis indonesia bya embrio iblisnya berkembang biak',\n",
              "       'muncul partai komunis indonesia berbulu monyet',\n",
              "       'ganyang partai komunis indonesia tentara nasional indonesia',\n",
              "       'jokowi tuduh partai komunis indonesia prabowo tuduh otoriter halo mas agus harimurti yudhoyono senyum senyum mengumpulkan kekuatan politik',\n",
              "       'namanya pemerintahan revolusioner republik indonesia susah gampang partai komunis indonesia'],\n",
              "      dtype=object)"
            ]
          },
          "execution_count": 32,
          "metadata": {},
          "output_type": "execute_result"
        }
      ],
      "source": [
        "check('partai komunis', tp)"
      ]
    },
    {
      "cell_type": "markdown",
      "metadata": {
        "id": "N8yY-igTfatD"
      },
      "source": [
        "To improve model's performance, we can try to gather more data specifically on **label 0** (Neutral) "
      ]
    }
  ],
  "metadata": {
    "colab": {
      "collapsed_sections": [
        "WlcyzNJWqzLk",
        "kzQZH8Psq_D5"
      ],
      "provenance": [],
      "toc_visible": true
    },
    "kernelspec": {
      "display_name": "Python 3",
      "name": "python3"
    },
    "language_info": {
      "name": "python"
    }
  },
  "nbformat": 4,
  "nbformat_minor": 0
}