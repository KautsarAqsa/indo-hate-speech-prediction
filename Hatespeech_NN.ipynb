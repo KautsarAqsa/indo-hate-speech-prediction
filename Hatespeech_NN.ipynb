{
  "nbformat": 4,
  "nbformat_minor": 0,
  "metadata": {
    "colab": {
      "provenance": [],
      "toc_visible": true
    },
    "kernelspec": {
      "name": "python3",
      "display_name": "Python 3"
    },
    "language_info": {
      "name": "python"
    }
  },
  "cells": [
    {
      "cell_type": "markdown",
      "source": [
        "# **Dependencies**\n"
      ],
      "metadata": {
        "id": "lBtaWIzq_Pa_"
      }
    },
    {
      "cell_type": "code",
      "execution_count": null,
      "metadata": {
        "id": "zhdekk3t9dNP"
      },
      "outputs": [],
      "source": [
        "# Libraries\n",
        "import pandas as pd\n",
        "import numpy as np\n",
        "import matplotlib.pyplot as plt\n",
        "import seaborn as sns\n",
        "from nltk import word_tokenize \n",
        "from nltk.util import ngrams\n",
        "from sklearn.feature_extraction.text import CountVectorizer"
      ]
    },
    {
      "cell_type": "code",
      "source": [
        "# Helper function \n",
        "def check(word, df):\n",
        "  return df[df['tweet'].str.contains(word, case = False)]['tweet'].unique()[:10]\n",
        "\n",
        "def unigram(df):\n",
        "  uni = df['tweet'].str.split(expand = True).stack()\n",
        "  return uni.value_counts().head(30)\n",
        "\n",
        "def get_top_n_gram(data,ngram_range,n=None):\n",
        "    vec = CountVectorizer(ngram_range=ngram_range).fit(data)\n",
        "    bag_of_words = vec.transform(data)\n",
        "    sum_words = bag_of_words.sum(axis=0) \n",
        "    words_freq = [(word, sum_words[0, idx]) for word, idx in vec.vocabulary_.items()]\n",
        "    words_freq =sorted(words_freq, key = lambda x: x[1], reverse=True)\n",
        "    return words_freq[:n]"
      ],
      "metadata": {
        "id": "NtH7tDIl3dNA"
      },
      "execution_count": null,
      "outputs": []
    },
    {
      "cell_type": "code",
      "source": [
        "# Mount colab\n",
        "from google.colab import drive\n",
        "\n",
        "drive.mount('/content/drive', force_remount = True)"
      ],
      "metadata": {
        "colab": {
          "base_uri": "https://localhost:8080/"
        },
        "id": "0QuIzFNPAu8H",
        "outputId": "10d2d336-57dd-4c11-de4e-dce4471376a8"
      },
      "execution_count": null,
      "outputs": [
        {
          "output_type": "stream",
          "name": "stdout",
          "text": [
            "Mounted at /content/drive\n"
          ]
        }
      ]
    },
    {
      "cell_type": "code",
      "source": [
        "# Dataset\n",
        "dataset_url = 'https://raw.githubusercontent.com/okkyibrohim/id-multi-label-hate-speech-and-abusive-language-detection/master/re_dataset.csv'\n",
        "raw = pd.read_csv(dataset_url, encoding = 'latin1')\n",
        "df = pd.read_csv('/content/drive/MyDrive/Colab Notebooks/hatespeech_dataset.csv')"
      ],
      "metadata": {
        "id": "Ji6WDrqP9qFP"
      },
      "execution_count": null,
      "outputs": []
    },
    {
      "cell_type": "code",
      "source": [
        "df.head(10)"
      ],
      "metadata": {
        "colab": {
          "base_uri": "https://localhost:8080/",
          "height": 363
        },
        "id": "bQiSh6jSArA8",
        "outputId": "ff74f8f1-d502-401c-f2c0-70b855876e15"
      },
      "execution_count": null,
      "outputs": [
        {
          "output_type": "execute_result",
          "data": {
            "text/plain": [
              "                                               tweet  hs\n",
              "0  cowok berus melacak perhatian gue lantas remen...   1\n",
              "1  telat tau edan sarap gue bergaul cigax jifla c...   0\n",
              "2  kadang berpikir percaya tuhan padl jatuh berka...   0\n",
              "3                                ku tau matamu sipit   0\n",
              "4                  kaum cebong kafir dongoknya dungu   1\n",
              "5                            bani taplak kawan kawan   1\n",
              "6  deklarasi pilihan kepala daerah aman anti hoak...   0\n",
              "7  gue selesai re watch aldnoah zero kampret kara...   0\n",
              "8  admin belanja poterbaik nak ais kepal milo ais...   0\n",
              "9                                         enak ngewe   0"
            ],
            "text/html": [
              "\n",
              "  <div id=\"df-4dd17a75-7374-4558-9203-6c6bda07ef1d\">\n",
              "    <div class=\"colab-df-container\">\n",
              "      <div>\n",
              "<style scoped>\n",
              "    .dataframe tbody tr th:only-of-type {\n",
              "        vertical-align: middle;\n",
              "    }\n",
              "\n",
              "    .dataframe tbody tr th {\n",
              "        vertical-align: top;\n",
              "    }\n",
              "\n",
              "    .dataframe thead th {\n",
              "        text-align: right;\n",
              "    }\n",
              "</style>\n",
              "<table border=\"1\" class=\"dataframe\">\n",
              "  <thead>\n",
              "    <tr style=\"text-align: right;\">\n",
              "      <th></th>\n",
              "      <th>tweet</th>\n",
              "      <th>hs</th>\n",
              "    </tr>\n",
              "  </thead>\n",
              "  <tbody>\n",
              "    <tr>\n",
              "      <th>0</th>\n",
              "      <td>cowok berus melacak perhatian gue lantas remen...</td>\n",
              "      <td>1</td>\n",
              "    </tr>\n",
              "    <tr>\n",
              "      <th>1</th>\n",
              "      <td>telat tau edan sarap gue bergaul cigax jifla c...</td>\n",
              "      <td>0</td>\n",
              "    </tr>\n",
              "    <tr>\n",
              "      <th>2</th>\n",
              "      <td>kadang berpikir percaya tuhan padl jatuh berka...</td>\n",
              "      <td>0</td>\n",
              "    </tr>\n",
              "    <tr>\n",
              "      <th>3</th>\n",
              "      <td>ku tau matamu sipit</td>\n",
              "      <td>0</td>\n",
              "    </tr>\n",
              "    <tr>\n",
              "      <th>4</th>\n",
              "      <td>kaum cebong kafir dongoknya dungu</td>\n",
              "      <td>1</td>\n",
              "    </tr>\n",
              "    <tr>\n",
              "      <th>5</th>\n",
              "      <td>bani taplak kawan kawan</td>\n",
              "      <td>1</td>\n",
              "    </tr>\n",
              "    <tr>\n",
              "      <th>6</th>\n",
              "      <td>deklarasi pilihan kepala daerah aman anti hoak...</td>\n",
              "      <td>0</td>\n",
              "    </tr>\n",
              "    <tr>\n",
              "      <th>7</th>\n",
              "      <td>gue selesai re watch aldnoah zero kampret kara...</td>\n",
              "      <td>0</td>\n",
              "    </tr>\n",
              "    <tr>\n",
              "      <th>8</th>\n",
              "      <td>admin belanja poterbaik nak ais kepal milo ais...</td>\n",
              "      <td>0</td>\n",
              "    </tr>\n",
              "    <tr>\n",
              "      <th>9</th>\n",
              "      <td>enak ngewe</td>\n",
              "      <td>0</td>\n",
              "    </tr>\n",
              "  </tbody>\n",
              "</table>\n",
              "</div>\n",
              "      <button class=\"colab-df-convert\" onclick=\"convertToInteractive('df-4dd17a75-7374-4558-9203-6c6bda07ef1d')\"\n",
              "              title=\"Convert this dataframe to an interactive table.\"\n",
              "              style=\"display:none;\">\n",
              "        \n",
              "  <svg xmlns=\"http://www.w3.org/2000/svg\" height=\"24px\"viewBox=\"0 0 24 24\"\n",
              "       width=\"24px\">\n",
              "    <path d=\"M0 0h24v24H0V0z\" fill=\"none\"/>\n",
              "    <path d=\"M18.56 5.44l.94 2.06.94-2.06 2.06-.94-2.06-.94-.94-2.06-.94 2.06-2.06.94zm-11 1L8.5 8.5l.94-2.06 2.06-.94-2.06-.94L8.5 2.5l-.94 2.06-2.06.94zm10 10l.94 2.06.94-2.06 2.06-.94-2.06-.94-.94-2.06-.94 2.06-2.06.94z\"/><path d=\"M17.41 7.96l-1.37-1.37c-.4-.4-.92-.59-1.43-.59-.52 0-1.04.2-1.43.59L10.3 9.45l-7.72 7.72c-.78.78-.78 2.05 0 2.83L4 21.41c.39.39.9.59 1.41.59.51 0 1.02-.2 1.41-.59l7.78-7.78 2.81-2.81c.8-.78.8-2.07 0-2.86zM5.41 20L4 18.59l7.72-7.72 1.47 1.35L5.41 20z\"/>\n",
              "  </svg>\n",
              "      </button>\n",
              "      \n",
              "  <style>\n",
              "    .colab-df-container {\n",
              "      display:flex;\n",
              "      flex-wrap:wrap;\n",
              "      gap: 12px;\n",
              "    }\n",
              "\n",
              "    .colab-df-convert {\n",
              "      background-color: #E8F0FE;\n",
              "      border: none;\n",
              "      border-radius: 50%;\n",
              "      cursor: pointer;\n",
              "      display: none;\n",
              "      fill: #1967D2;\n",
              "      height: 32px;\n",
              "      padding: 0 0 0 0;\n",
              "      width: 32px;\n",
              "    }\n",
              "\n",
              "    .colab-df-convert:hover {\n",
              "      background-color: #E2EBFA;\n",
              "      box-shadow: 0px 1px 2px rgba(60, 64, 67, 0.3), 0px 1px 3px 1px rgba(60, 64, 67, 0.15);\n",
              "      fill: #174EA6;\n",
              "    }\n",
              "\n",
              "    [theme=dark] .colab-df-convert {\n",
              "      background-color: #3B4455;\n",
              "      fill: #D2E3FC;\n",
              "    }\n",
              "\n",
              "    [theme=dark] .colab-df-convert:hover {\n",
              "      background-color: #434B5C;\n",
              "      box-shadow: 0px 1px 3px 1px rgba(0, 0, 0, 0.15);\n",
              "      filter: drop-shadow(0px 1px 2px rgba(0, 0, 0, 0.3));\n",
              "      fill: #FFFFFF;\n",
              "    }\n",
              "  </style>\n",
              "\n",
              "      <script>\n",
              "        const buttonEl =\n",
              "          document.querySelector('#df-4dd17a75-7374-4558-9203-6c6bda07ef1d button.colab-df-convert');\n",
              "        buttonEl.style.display =\n",
              "          google.colab.kernel.accessAllowed ? 'block' : 'none';\n",
              "\n",
              "        async function convertToInteractive(key) {\n",
              "          const element = document.querySelector('#df-4dd17a75-7374-4558-9203-6c6bda07ef1d');\n",
              "          const dataTable =\n",
              "            await google.colab.kernel.invokeFunction('convertToInteractive',\n",
              "                                                     [key], {});\n",
              "          if (!dataTable) return;\n",
              "\n",
              "          const docLinkHtml = 'Like what you see? Visit the ' +\n",
              "            '<a target=\"_blank\" href=https://colab.research.google.com/notebooks/data_table.ipynb>data table notebook</a>'\n",
              "            + ' to learn more about interactive tables.';\n",
              "          element.innerHTML = '';\n",
              "          dataTable['output_type'] = 'display_data';\n",
              "          await google.colab.output.renderOutput(dataTable, element);\n",
              "          const docLink = document.createElement('div');\n",
              "          docLink.innerHTML = docLinkHtml;\n",
              "          element.appendChild(docLink);\n",
              "        }\n",
              "      </script>\n",
              "    </div>\n",
              "  </div>\n",
              "  "
            ]
          },
          "metadata": {},
          "execution_count": 5
        }
      ]
    },
    {
      "cell_type": "code",
      "source": [
        "df.info()"
      ],
      "metadata": {
        "colab": {
          "base_uri": "https://localhost:8080/"
        },
        "id": "5I31qAiZnRtG",
        "outputId": "dfb4fa2d-8d76-48d4-e8b9-9879d0fa1785"
      },
      "execution_count": null,
      "outputs": [
        {
          "output_type": "stream",
          "name": "stdout",
          "text": [
            "<class 'pandas.core.frame.DataFrame'>\n",
            "RangeIndex: 13169 entries, 0 to 13168\n",
            "Data columns (total 2 columns):\n",
            " #   Column  Non-Null Count  Dtype \n",
            "---  ------  --------------  ----- \n",
            " 0   tweet   13112 non-null  object\n",
            " 1   hs      13169 non-null  int64 \n",
            "dtypes: int64(1), object(1)\n",
            "memory usage: 205.9+ KB\n"
          ]
        }
      ]
    },
    {
      "cell_type": "code",
      "source": [
        "# Small cleaning\n",
        "df = df.dropna()\n",
        "df['tweet'] = df['tweet'].astype(str) "
      ],
      "metadata": {
        "id": "yuB_kDK4G4AY",
        "colab": {
          "base_uri": "https://localhost:8080/"
        },
        "outputId": "875df7ca-2555-472b-e2be-11b53d08feac"
      },
      "execution_count": null,
      "outputs": [
        {
          "output_type": "stream",
          "name": "stderr",
          "text": [
            "/usr/local/lib/python3.7/dist-packages/ipykernel_launcher.py:3: SettingWithCopyWarning: \n",
            "A value is trying to be set on a copy of a slice from a DataFrame.\n",
            "Try using .loc[row_indexer,col_indexer] = value instead\n",
            "\n",
            "See the caveats in the documentation: https://pandas.pydata.org/pandas-docs/stable/user_guide/indexing.html#returning-a-view-versus-a-copy\n",
            "  This is separate from the ipykernel package so we can avoid doing imports until\n"
          ]
        }
      ]
    },
    {
      "cell_type": "markdown",
      "source": [
        "# **Explore**"
      ],
      "metadata": {
        "id": "0e-g7GNzusqT"
      }
    },
    {
      "cell_type": "code",
      "source": [
        "# Word count\n",
        "wordcount = df['tweet'].str.split(expand = True).stack().nunique()\n",
        "wordcount"
      ],
      "metadata": {
        "id": "o52u2bz2y1AI",
        "colab": {
          "base_uri": "https://localhost:8080/"
        },
        "outputId": "27bb58a1-53ba-463e-f81d-c3992f67d817"
      },
      "execution_count": null,
      "outputs": [
        {
          "output_type": "execute_result",
          "data": {
            "text/plain": [
              "18706"
            ]
          },
          "metadata": {},
          "execution_count": 8
        }
      ]
    },
    {
      "cell_type": "markdown",
      "source": [
        "# **Modelling**"
      ],
      "metadata": {
        "id": "XMDZPm2-BTsK"
      }
    },
    {
      "cell_type": "code",
      "source": [
        "# Modelling Libraries\n",
        "import tensorflow as tf\n",
        "\n",
        "from sklearn.model_selection import train_test_split\n",
        "from sklearn.metrics import accuracy_score, f1_score, classification_report, recall_score"
      ],
      "metadata": {
        "id": "nkmw24DZBncU"
      },
      "execution_count": null,
      "outputs": []
    },
    {
      "cell_type": "markdown",
      "source": [
        "### Train Test Split"
      ],
      "metadata": {
        "id": "I5jkxHIjCQvu"
      }
    },
    {
      "cell_type": "code",
      "source": [
        "# Split Dataset\n",
        "X = df['tweet'].values\n",
        "y = df['hs'].values\n",
        "X_train, X_test, y_train, y_test = train_test_split(X, y, test_size=0.2, random_state=42, shuffle=True, stratify = y)"
      ],
      "metadata": {
        "id": "0_LBvtl0B7in"
      },
      "execution_count": null,
      "outputs": []
    },
    {
      "cell_type": "markdown",
      "source": [
        "### Tokenizing & Padding"
      ],
      "metadata": {
        "id": "HF8GLqOcD-nd"
      }
    },
    {
      "cell_type": "code",
      "source": [
        "# Tokenizer\n",
        "Tokenizer = tf.keras.preprocessing.text.Tokenizer\n",
        "pad_sequences = tf.keras.preprocessing.sequence.pad_sequences\n",
        "\n",
        "# Language model params\n",
        "vocab_size = round(wordcount * 0.8)\n",
        "embedding_dim = 16\n",
        "max_length = 100\n",
        "\n",
        "# Tokenize words\n",
        "tokenizer = Tokenizer(num_words = vocab_size, oov_token = '<OOV>')\n",
        "tokenizer.fit_on_texts(X_train)\n",
        "\n",
        "sequence_train = tokenizer.texts_to_sequences(X_train)\n",
        "sequence_test = tokenizer.texts_to_sequences(X_test)\n",
        "\n",
        "# Padding\n",
        "padded_train = pad_sequences(sequence_train, padding='post', maxlen = max_length, truncating='post')\n",
        "padded_test = pad_sequences(sequence_test, padding='post', maxlen = max_length, truncating='post')"
      ],
      "metadata": {
        "id": "SN8OYUQUCZZ1"
      },
      "execution_count": null,
      "outputs": []
    },
    {
      "cell_type": "markdown",
      "source": [
        "**Baseline Neural Net Params**\n",
        "\n",
        "`vocab size` = We can directly use `wordcount` variable, but for this baseline, only 80% of total unique words will be used"
      ],
      "metadata": {
        "id": "uCP7efQYMv7m"
      }
    },
    {
      "cell_type": "markdown",
      "source": [
        "### Model"
      ],
      "metadata": {
        "id": "SptX62BcEr1H"
      }
    },
    {
      "cell_type": "code",
      "source": [
        "# Baseline model architecture\n",
        "model = tf.keras.Sequential([\n",
        "    tf.keras.layers.Embedding(vocab_size, embedding_dim, input_length = max_length),\n",
        "    tf.keras.layers.GlobalAveragePooling1D(),\n",
        "    tf.keras.layers.Dense(32, activation='relu'),\n",
        "    tf.keras.layers.Dropout(0.5),\n",
        "    tf.keras.layers.Dense(1, activation='sigmoid')\n",
        "])\n",
        "model.compile(loss='binary_crossentropy',optimizer='adam',metrics=['accuracy'])"
      ],
      "metadata": {
        "id": "6YZolLpsHBs1"
      },
      "execution_count": null,
      "outputs": []
    },
    {
      "cell_type": "code",
      "source": [
        "model.summary()"
      ],
      "metadata": {
        "colab": {
          "base_uri": "https://localhost:8080/"
        },
        "id": "PI0hRluTIzLX",
        "outputId": "aae51c51-d79c-452e-9d55-1e93584476f7"
      },
      "execution_count": null,
      "outputs": [
        {
          "output_type": "stream",
          "name": "stdout",
          "text": [
            "Model: \"sequential\"\n",
            "_________________________________________________________________\n",
            " Layer (type)                Output Shape              Param #   \n",
            "=================================================================\n",
            " embedding (Embedding)       (None, 100, 16)           239440    \n",
            "                                                                 \n",
            " global_average_pooling1d (G  (None, 16)               0         \n",
            " lobalAveragePooling1D)                                          \n",
            "                                                                 \n",
            " dense (Dense)               (None, 32)                544       \n",
            "                                                                 \n",
            " dropout (Dropout)           (None, 32)                0         \n",
            "                                                                 \n",
            " dense_1 (Dense)             (None, 1)                 33        \n",
            "                                                                 \n",
            "=================================================================\n",
            "Total params: 240,017\n",
            "Trainable params: 240,017\n",
            "Non-trainable params: 0\n",
            "_________________________________________________________________\n"
          ]
        }
      ]
    },
    {
      "cell_type": "code",
      "source": [
        "# Model training\n",
        "callback = tf.keras.callbacks.EarlyStopping(monitor='val_loss', patience=5, restore_best_weights = True) \n",
        "### Callback will stop the training if there is no improvement in 5 consecutive epochs then return best model.\n",
        "\n",
        "num_epochs = 30\n",
        "history = model.fit(padded_train, y_train, epochs=num_epochs, \n",
        "                    validation_data=(padded_test, y_test), callbacks = [callback], verbose='auto')"
      ],
      "metadata": {
        "colab": {
          "base_uri": "https://localhost:8080/"
        },
        "id": "I4PTGV3DI5_F",
        "outputId": "ea5bfaf1-ce3a-4535-e3ad-c533bf1cd4a0"
      },
      "execution_count": null,
      "outputs": [
        {
          "output_type": "stream",
          "name": "stdout",
          "text": [
            "Epoch 1/30\n",
            "328/328 [==============================] - 3s 6ms/step - loss: 0.6830 - accuracy: 0.5746 - val_loss: 0.6776 - val_accuracy: 0.5768\n",
            "Epoch 2/30\n",
            "328/328 [==============================] - 2s 6ms/step - loss: 0.6506 - accuracy: 0.6175 - val_loss: 0.5894 - val_accuracy: 0.6908\n",
            "Epoch 3/30\n",
            "328/328 [==============================] - 2s 5ms/step - loss: 0.4983 - accuracy: 0.7941 - val_loss: 0.4477 - val_accuracy: 0.7995\n",
            "Epoch 4/30\n",
            "328/328 [==============================] - 2s 6ms/step - loss: 0.3786 - accuracy: 0.8462 - val_loss: 0.3955 - val_accuracy: 0.8277\n",
            "Epoch 5/30\n",
            "328/328 [==============================] - 2s 6ms/step - loss: 0.3145 - accuracy: 0.8745 - val_loss: 0.3911 - val_accuracy: 0.8201\n",
            "Epoch 6/30\n",
            "328/328 [==============================] - 2s 6ms/step - loss: 0.2750 - accuracy: 0.8920 - val_loss: 0.3758 - val_accuracy: 0.8338\n",
            "Epoch 7/30\n",
            "328/328 [==============================] - 2s 6ms/step - loss: 0.2455 - accuracy: 0.9086 - val_loss: 0.3816 - val_accuracy: 0.8361\n",
            "Epoch 8/30\n",
            "328/328 [==============================] - 2s 6ms/step - loss: 0.2196 - accuracy: 0.9176 - val_loss: 0.3884 - val_accuracy: 0.8311\n",
            "Epoch 9/30\n",
            "328/328 [==============================] - 2s 5ms/step - loss: 0.1998 - accuracy: 0.9270 - val_loss: 0.3945 - val_accuracy: 0.8307\n",
            "Epoch 10/30\n",
            "328/328 [==============================] - 2s 6ms/step - loss: 0.1785 - accuracy: 0.9375 - val_loss: 0.4123 - val_accuracy: 0.8315\n",
            "Epoch 11/30\n",
            "328/328 [==============================] - 2s 6ms/step - loss: 0.1682 - accuracy: 0.9424 - val_loss: 0.4270 - val_accuracy: 0.8292\n"
          ]
        }
      ]
    },
    {
      "cell_type": "code",
      "source": [
        "def plot_history(history, string):\n",
        "  plt.figure(figsize = (8,5))\n",
        "  sns.set_style(\"whitegrid\")\n",
        "  plt.plot(history.history[string], marker = 'o')\n",
        "  plt.plot(history.history['val_'+string], marker = 'o')\n",
        "  plt.xlabel(\"Epochs\")\n",
        "  plt.ylabel(string.title())\n",
        "  plt.legend([string, 'val_'+string])\n",
        "  plt.show()\n",
        "  \n",
        "  \n",
        "plot_history(history, \"accuracy\")\n",
        "plot_history(history, \"loss\")"
      ],
      "metadata": {
        "colab": {
          "base_uri": "https://localhost:8080/",
          "height": 651
        },
        "id": "dJ-0gWmUJcGI",
        "outputId": "75922945-0470-49ab-9da6-46a25ed3870f"
      },
      "execution_count": null,
      "outputs": [
        {
          "output_type": "display_data",
          "data": {
            "text/plain": [
              "<Figure size 576x360 with 1 Axes>"
            ],
            "image/png": "[encoded data removed]"
          },
          "metadata": {
            "needs_background": "light"
          }
        },
        {
          "output_type": "display_data",
          "data": {
            "text/plain": [
              "<Figure size 576x360 with 1 Axes>"
            ],
            "image/png": "[encoded data removed]"
          },
          "metadata": {}
        }
      ]
    },
    {
      "cell_type": "markdown",
      "source": [
        "# **Model Evaluation**"
      ],
      "metadata": {
        "id": "jPaDVGo5eprN"
      }
    },
    {
      "cell_type": "code",
      "source": [
        "# evaluate a model using repeated k-fold cross-validation\n",
        "yhat = model.predict(padded_test)\n",
        "\n",
        "# round probabilities to class labels\n",
        "yhat = yhat.round(0)\n",
        "\n",
        "# calculate accuracy\n",
        "acc = accuracy_score(y_test, yhat)\n",
        "result = classification_report(y_test, yhat, target_names = ['Hatespeech', 'Neutral'])\n",
        "\n",
        "# store result\n",
        "print('Accuracy >%.3f' % acc)\n",
        "print(result)"
      ],
      "metadata": {
        "colab": {
          "base_uri": "https://localhost:8080/"
        },
        "id": "aODiokEQeKBZ",
        "outputId": "fd27582f-b3a6-4d4f-b34d-acbfbc1956b6"
      },
      "execution_count": null,
      "outputs": [
        {
          "output_type": "stream",
          "name": "stdout",
          "text": [
            "82/82 [==============================] - 0s 1ms/step\n",
            "Accuracy >0.834\n",
            "              precision    recall  f1-score   support\n",
            "\n",
            "  Hatespeech       0.83      0.89      0.86      1513\n",
            "     Neutral       0.83      0.76      0.79      1110\n",
            "\n",
            "    accuracy                           0.83      2623\n",
            "   macro avg       0.83      0.82      0.83      2623\n",
            "weighted avg       0.83      0.83      0.83      2623\n",
            "\n"
          ]
        }
      ]
    },
    {
      "cell_type": "code",
      "source": [
        "# Evaluate every results\n",
        "df_test = pd.DataFrame({'tweet':X_test, 'hs':y_test})\n",
        "df_test['pred'] = yhat.flatten()\n",
        "df_test['pred'] = df_test['pred'].astype(int)\n",
        "fn = df_test[(df_test['hs'] == 1) & (df_test['pred'] == 0)]\n",
        "tp = df_test[(df_test['hs'] == 1) & (df_test['pred'] == 1)]\n",
        "tn = df_test[(df_test['hs'] == 0) & (df_test['pred'] == 0)]\n",
        "fp = df_test[(df_test['hs'] == 0) & (df_test['pred'] == 1)]"
      ],
      "metadata": {
        "id": "cn8WW1_DkbMd"
      },
      "execution_count": null,
      "outputs": []
    },
    {
      "cell_type": "markdown",
      "source": [
        "`fn` = false negative,\n",
        "`fp` = false positive,\n",
        "`tn` = true negative,\n",
        "`tp` = true positive,"
      ],
      "metadata": {
        "id": "cYj3pNrffEh3"
      }
    },
    {
      "cell_type": "code",
      "source": [
        "fn"
      ],
      "metadata": {
        "colab": {
          "base_uri": "https://localhost:8080/",
          "height": 424
        },
        "id": "nUkqAUvvnOE7",
        "outputId": "2f8edbd7-061e-4ec6-c4e9-b74437374e8b"
      },
      "execution_count": null,
      "outputs": [
        {
          "output_type": "execute_result",
          "data": {
            "text/plain": [
              "                                                  tweet  hs  pred\n",
              "10    generasi tinja bgia pemimpin berkoar koar anti...   1     0\n",
              "19    apel malang impor apel cina amerika namanya ba...   1     0\n",
              "25    masyart tionghoa pancasialis orang jawa tereks...   1     0\n",
              "26    by the way ratu tiru afi hinayah diundang joko...   1     0\n",
              "52                                     bolot alias daki   1     0\n",
              "...                                                 ...  ..   ...\n",
              "2588  pm hukum menuduh pelacur nur islam kafir tugas...   1     0\n",
              "2591                             agus budek mnya dengar   1     0\n",
              "2601                                 ih banci selotipan   1     0\n",
              "2612  hai setan operator tri bannya banyaknya antusi...   1     0\n",
              "2619  prof fiksi menyinggung agama ramai penistaan b...   1     0\n",
              "\n",
              "[268 rows x 3 columns]"
            ],
            "text/html": [
              "\n",
              "  <div id=\"df-530eb17a-b06e-41cb-8d86-7936c2d88ff1\">\n",
              "    <div class=\"colab-df-container\">\n",
              "      <div>\n",
              "<style scoped>\n",
              "    .dataframe tbody tr th:only-of-type {\n",
              "        vertical-align: middle;\n",
              "    }\n",
              "\n",
              "    .dataframe tbody tr th {\n",
              "        vertical-align: top;\n",
              "    }\n",
              "\n",
              "    .dataframe thead th {\n",
              "        text-align: right;\n",
              "    }\n",
              "</style>\n",
              "<table border=\"1\" class=\"dataframe\">\n",
              "  <thead>\n",
              "    <tr style=\"text-align: right;\">\n",
              "      <th></th>\n",
              "      <th>tweet</th>\n",
              "      <th>hs</th>\n",
              "      <th>pred</th>\n",
              "    </tr>\n",
              "  </thead>\n",
              "  <tbody>\n",
              "    <tr>\n",
              "      <th>10</th>\n",
              "      <td>generasi tinja bgia pemimpin berkoar koar anti...</td>\n",
              "      <td>1</td>\n",
              "      <td>0</td>\n",
              "    </tr>\n",
              "    <tr>\n",
              "      <th>19</th>\n",
              "      <td>apel malang impor apel cina amerika namanya ba...</td>\n",
              "      <td>1</td>\n",
              "      <td>0</td>\n",
              "    </tr>\n",
              "    <tr>\n",
              "      <th>25</th>\n",
              "      <td>masyart tionghoa pancasialis orang jawa tereks...</td>\n",
              "      <td>1</td>\n",
              "      <td>0</td>\n",
              "    </tr>\n",
              "    <tr>\n",
              "      <th>26</th>\n",
              "      <td>by the way ratu tiru afi hinayah diundang joko...</td>\n",
              "      <td>1</td>\n",
              "      <td>0</td>\n",
              "    </tr>\n",
              "    <tr>\n",
              "      <th>52</th>\n",
              "      <td>bolot alias daki</td>\n",
              "      <td>1</td>\n",
              "      <td>0</td>\n",
              "    </tr>\n",
              "    <tr>\n",
              "      <th>...</th>\n",
              "      <td>...</td>\n",
              "      <td>...</td>\n",
              "      <td>...</td>\n",
              "    </tr>\n",
              "    <tr>\n",
              "      <th>2588</th>\n",
              "      <td>pm hukum menuduh pelacur nur islam kafir tugas...</td>\n",
              "      <td>1</td>\n",
              "      <td>0</td>\n",
              "    </tr>\n",
              "    <tr>\n",
              "      <th>2591</th>\n",
              "      <td>agus budek mnya dengar</td>\n",
              "      <td>1</td>\n",
              "      <td>0</td>\n",
              "    </tr>\n",
              "    <tr>\n",
              "      <th>2601</th>\n",
              "      <td>ih banci selotipan</td>\n",
              "      <td>1</td>\n",
              "      <td>0</td>\n",
              "    </tr>\n",
              "    <tr>\n",
              "      <th>2612</th>\n",
              "      <td>hai setan operator tri bannya banyaknya antusi...</td>\n",
              "      <td>1</td>\n",
              "      <td>0</td>\n",
              "    </tr>\n",
              "    <tr>\n",
              "      <th>2619</th>\n",
              "      <td>prof fiksi menyinggung agama ramai penistaan b...</td>\n",
              "      <td>1</td>\n",
              "      <td>0</td>\n",
              "    </tr>\n",
              "  </tbody>\n",
              "</table>\n",
              "<p>268 rows × 3 columns</p>\n",
              "</div>\n",
              "      <button class=\"colab-df-convert\" onclick=\"convertToInteractive('df-530eb17a-b06e-41cb-8d86-7936c2d88ff1')\"\n",
              "              title=\"Convert this dataframe to an interactive table.\"\n",
              "              style=\"display:none;\">\n",
              "        \n",
              "  <svg xmlns=\"http://www.w3.org/2000/svg\" height=\"24px\"viewBox=\"0 0 24 24\"\n",
              "       width=\"24px\">\n",
              "    <path d=\"M0 0h24v24H0V0z\" fill=\"none\"/>\n",
              "    <path d=\"M18.56 5.44l.94 2.06.94-2.06 2.06-.94-2.06-.94-.94-2.06-.94 2.06-2.06.94zm-11 1L8.5 8.5l.94-2.06 2.06-.94-2.06-.94L8.5 2.5l-.94 2.06-2.06.94zm10 10l.94 2.06.94-2.06 2.06-.94-2.06-.94-.94-2.06-.94 2.06-2.06.94z\"/><path d=\"M17.41 7.96l-1.37-1.37c-.4-.4-.92-.59-1.43-.59-.52 0-1.04.2-1.43.59L10.3 9.45l-7.72 7.72c-.78.78-.78 2.05 0 2.83L4 21.41c.39.39.9.59 1.41.59.51 0 1.02-.2 1.41-.59l7.78-7.78 2.81-2.81c.8-.78.8-2.07 0-2.86zM5.41 20L4 18.59l7.72-7.72 1.47 1.35L5.41 20z\"/>\n",
              "  </svg>\n",
              "      </button>\n",
              "      \n",
              "  <style>\n",
              "    .colab-df-container {\n",
              "      display:flex;\n",
              "      flex-wrap:wrap;\n",
              "      gap: 12px;\n",
              "    }\n",
              "\n",
              "    .colab-df-convert {\n",
              "      background-color: #E8F0FE;\n",
              "      border: none;\n",
              "      border-radius: 50%;\n",
              "      cursor: pointer;\n",
              "      display: none;\n",
              "      fill: #1967D2;\n",
              "      height: 32px;\n",
              "      padding: 0 0 0 0;\n",
              "      width: 32px;\n",
              "    }\n",
              "\n",
              "    .colab-df-convert:hover {\n",
              "      background-color: #E2EBFA;\n",
              "      box-shadow: 0px 1px 2px rgba(60, 64, 67, 0.3), 0px 1px 3px 1px rgba(60, 64, 67, 0.15);\n",
              "      fill: #174EA6;\n",
              "    }\n",
              "\n",
              "    [theme=dark] .colab-df-convert {\n",
              "      background-color: #3B4455;\n",
              "      fill: #D2E3FC;\n",
              "    }\n",
              "\n",
              "    [theme=dark] .colab-df-convert:hover {\n",
              "      background-color: #434B5C;\n",
              "      box-shadow: 0px 1px 3px 1px rgba(0, 0, 0, 0.15);\n",
              "      filter: drop-shadow(0px 1px 2px rgba(0, 0, 0, 0.3));\n",
              "      fill: #FFFFFF;\n",
              "    }\n",
              "  </style>\n",
              "\n",
              "      <script>\n",
              "        const buttonEl =\n",
              "          document.querySelector('#df-530eb17a-b06e-41cb-8d86-7936c2d88ff1 button.colab-df-convert');\n",
              "        buttonEl.style.display =\n",
              "          google.colab.kernel.accessAllowed ? 'block' : 'none';\n",
              "\n",
              "        async function convertToInteractive(key) {\n",
              "          const element = document.querySelector('#df-530eb17a-b06e-41cb-8d86-7936c2d88ff1');\n",
              "          const dataTable =\n",
              "            await google.colab.kernel.invokeFunction('convertToInteractive',\n",
              "                                                     [key], {});\n",
              "          if (!dataTable) return;\n",
              "\n",
              "          const docLinkHtml = 'Like what you see? Visit the ' +\n",
              "            '<a target=\"_blank\" href=https://colab.research.google.com/notebooks/data_table.ipynb>data table notebook</a>'\n",
              "            + ' to learn more about interactive tables.';\n",
              "          element.innerHTML = '';\n",
              "          dataTable['output_type'] = 'display_data';\n",
              "          await google.colab.output.renderOutput(dataTable, element);\n",
              "          const docLink = document.createElement('div');\n",
              "          docLink.innerHTML = docLinkHtml;\n",
              "          element.appendChild(docLink);\n",
              "        }\n",
              "      </script>\n",
              "    </div>\n",
              "  </div>\n",
              "  "
            ]
          },
          "metadata": {},
          "execution_count": 19
        }
      ]
    },
    {
      "cell_type": "code",
      "source": [
        "fn['tweet'].unique()[:20]"
      ],
      "metadata": {
        "colab": {
          "base_uri": "https://localhost:8080/"
        },
        "id": "_Q7IaPPL082z",
        "outputId": "fbb6ea59-7c2b-4348-af3d-6cb15b2eed73"
      },
      "execution_count": null,
      "outputs": [
        {
          "output_type": "execute_result",
          "data": {
            "text/plain": [
              "array(['generasi tinja bgia pemimpin berkoar koar anti asing jaman pilihan kepala daerah selesai pilihan kepala daerah pengikutnya membela tinja asing enak',\n",
              "       'apel malang impor apel cina amerika namanya bangga produk indonesia',\n",
              "       'masyart tionghoa pancasialis orang jawa terekspos contoh nyata kwik ekonom ustaz felix siauw',\n",
              "       'by the way ratu tiru afi hinayah diundang jokowi istana posting tiru mengancam bunuh allah',\n",
              "       'bolot alias daki', 'menteri soeharto homo',\n",
              "       'ah dibayari negeri mengeluh dasar bersyukur kontol',\n",
              "       'bawa perasaan bang cebong pejuang bawa perasaan',\n",
              "       'prabowo lolos jerat hukum anggota tim mr dijatuhi hukuman pidana penjara dkp',\n",
              "       'cacat ican goblok',\n",
              "       'tai doang belaganya selangit karma idol flop gue ket keras',\n",
              "       'mas joko kelakuan otoriter habis rakyat rezim sadam dafi as sisi mk bro',\n",
              "       'tau princess udik',\n",
              "       'senang hati cewek dilepaskan mbaknya angkutan mbaknya gang bang pemerkosa kunyuk selesai mbaknya mobilnya marah pergi bilang pemerkosa',\n",
              "       'ayo umat islam pintar percaya aksi hubungannya pilihan kepala daerah pi agus harimurti yudhoyono bayar anies untung ude',\n",
              "       'becak warga binjai disita gunn tenda bertuliskan ganti presiden partai keadilan sejahtera meradang bukti pemerintah panik takut',\n",
              "       'mesti diproyen asing nasionalis pancasilais pilih asing antek asing',\n",
              "       'suasana stq tingkat kabupaten ntt masjid mimbar dana swasembada umat islam nama pemerintah daerah musabaqah tilawatil quran tingkat propinsi ntt menyedin ganti presiden',\n",
              "       'ayo muslim hantam lgbt rakyat pm dibuang islam parmusi dorong rancangan undang undang anti pm lgbt',\n",
              "       'menjabat menteri agama mudah injil ditulis manusia'], dtype=object)"
            ]
          },
          "metadata": {},
          "execution_count": 20
        }
      ]
    },
    {
      "cell_type": "code",
      "source": [
        "raw[raw['Tweet'].str.contains('generasi tinja', case = False)]['Tweet'].unique()"
      ],
      "metadata": {
        "colab": {
          "base_uri": "https://localhost:8080/"
        },
        "id": "jVgtDaM6c6j9",
        "outputId": "f2db5122-5f26-4d53-a539-4ea8c9254095"
      },
      "execution_count": null,
      "outputs": [
        {
          "output_type": "execute_result",
          "data": {
            "text/plain": [
              "array([\"USER USER Ketika generasi tinja sangat bahagia pemimpin nya bisa berkoar koar anti aseng di jaman pilkada dan ketika selesai pilkada pengikutnya membela bahwa tinja nya aseng enak'\"],\n",
              "      dtype=object)"
            ]
          },
          "metadata": {},
          "execution_count": 21
        }
      ]
    },
    {
      "cell_type": "code",
      "source": [
        "raw[raw['Tweet'].str.contains('ratu tiru', case = False)]['Tweet'].unique()"
      ],
      "metadata": {
        "colab": {
          "base_uri": "https://localhost:8080/"
        },
        "id": "TyqfaEtwdtWI",
        "outputId": "e07fb0f3-03ca-406f-fc50-a62a9230eaab"
      },
      "execution_count": null,
      "outputs": [
        {
          "output_type": "execute_result",
          "data": {
            "text/plain": [
              "array(['Btw si ratu tiru afi hinayah yang udah diundang jokowi ke istana posting tiru lagi yes. Ntar mengancam mau bunuh diri. Ya Alloh.'],\n",
              "      dtype=object)"
            ]
          },
          "metadata": {},
          "execution_count": 22
        }
      ]
    },
    {
      "cell_type": "code",
      "source": [
        "fp"
      ],
      "metadata": {
        "colab": {
          "base_uri": "https://localhost:8080/",
          "height": 424
        },
        "id": "l-gQmJrzCerx",
        "outputId": "20497dc3-3a8f-4667-9951-7bd8699089d4"
      },
      "execution_count": null,
      "outputs": [
        {
          "output_type": "execute_result",
          "data": {
            "text/plain": [
              "                                                  tweet  hs  pred\n",
              "13       kejang kejang bong keren dewasa malu memalukan   0     1\n",
              "17    pilihan kepala daerah daerah khusus ibukota di...   0     1\n",
              "63          salah alasan presiden malu in bangsa iniiii   0     1\n",
              "70    maksud jor joran pinjaman ib merebut simpati r...   0     1\n",
              "85    sepupu bos gue facebook namanya sin ting orang...   0     1\n",
              "...                                                 ...  ..   ...\n",
              "2596  yli tentara nasional indonesia suruh uruskan s...   0     1\n",
              "2603     direct message pakai capslock bilang gue cocot   0     1\n",
              "2607  terdesak kehancuran kampret kian melemah terde...   0     1\n",
              "2608  doa bangsa rin islam partai keadilan sejahtera...   0     1\n",
              "2614                   menyebut jokowi antek asing wkwk   0     1\n",
              "\n",
              "[168 rows x 3 columns]"
            ],
            "text/html": [
              "\n",
              "  <div id=\"df-606b235b-98cb-4d03-b251-41daf2d5a48a\">\n",
              "    <div class=\"colab-df-container\">\n",
              "      <div>\n",
              "<style scoped>\n",
              "    .dataframe tbody tr th:only-of-type {\n",
              "        vertical-align: middle;\n",
              "    }\n",
              "\n",
              "    .dataframe tbody tr th {\n",
              "        vertical-align: top;\n",
              "    }\n",
              "\n",
              "    .dataframe thead th {\n",
              "        text-align: right;\n",
              "    }\n",
              "</style>\n",
              "<table border=\"1\" class=\"dataframe\">\n",
              "  <thead>\n",
              "    <tr style=\"text-align: right;\">\n",
              "      <th></th>\n",
              "      <th>tweet</th>\n",
              "      <th>hs</th>\n",
              "      <th>pred</th>\n",
              "    </tr>\n",
              "  </thead>\n",
              "  <tbody>\n",
              "    <tr>\n",
              "      <th>13</th>\n",
              "      <td>kejang kejang bong keren dewasa malu memalukan</td>\n",
              "      <td>0</td>\n",
              "      <td>1</td>\n",
              "    </tr>\n",
              "    <tr>\n",
              "      <th>17</th>\n",
              "      <td>pilihan kepala daerah daerah khusus ibukota di...</td>\n",
              "      <td>0</td>\n",
              "      <td>1</td>\n",
              "    </tr>\n",
              "    <tr>\n",
              "      <th>63</th>\n",
              "      <td>salah alasan presiden malu in bangsa iniiii</td>\n",
              "      <td>0</td>\n",
              "      <td>1</td>\n",
              "    </tr>\n",
              "    <tr>\n",
              "      <th>70</th>\n",
              "      <td>maksud jor joran pinjaman ib merebut simpati r...</td>\n",
              "      <td>0</td>\n",
              "      <td>1</td>\n",
              "    </tr>\n",
              "    <tr>\n",
              "      <th>85</th>\n",
              "      <td>sepupu bos gue facebook namanya sin ting orang...</td>\n",
              "      <td>0</td>\n",
              "      <td>1</td>\n",
              "    </tr>\n",
              "    <tr>\n",
              "      <th>...</th>\n",
              "      <td>...</td>\n",
              "      <td>...</td>\n",
              "      <td>...</td>\n",
              "    </tr>\n",
              "    <tr>\n",
              "      <th>2596</th>\n",
              "      <td>yli tentara nasional indonesia suruh uruskan s...</td>\n",
              "      <td>0</td>\n",
              "      <td>1</td>\n",
              "    </tr>\n",
              "    <tr>\n",
              "      <th>2603</th>\n",
              "      <td>direct message pakai capslock bilang gue cocot</td>\n",
              "      <td>0</td>\n",
              "      <td>1</td>\n",
              "    </tr>\n",
              "    <tr>\n",
              "      <th>2607</th>\n",
              "      <td>terdesak kehancuran kampret kian melemah terde...</td>\n",
              "      <td>0</td>\n",
              "      <td>1</td>\n",
              "    </tr>\n",
              "    <tr>\n",
              "      <th>2608</th>\n",
              "      <td>doa bangsa rin islam partai keadilan sejahtera...</td>\n",
              "      <td>0</td>\n",
              "      <td>1</td>\n",
              "    </tr>\n",
              "    <tr>\n",
              "      <th>2614</th>\n",
              "      <td>menyebut jokowi antek asing wkwk</td>\n",
              "      <td>0</td>\n",
              "      <td>1</td>\n",
              "    </tr>\n",
              "  </tbody>\n",
              "</table>\n",
              "<p>168 rows × 3 columns</p>\n",
              "</div>\n",
              "      <button class=\"colab-df-convert\" onclick=\"convertToInteractive('df-606b235b-98cb-4d03-b251-41daf2d5a48a')\"\n",
              "              title=\"Convert this dataframe to an interactive table.\"\n",
              "              style=\"display:none;\">\n",
              "        \n",
              "  <svg xmlns=\"http://www.w3.org/2000/svg\" height=\"24px\"viewBox=\"0 0 24 24\"\n",
              "       width=\"24px\">\n",
              "    <path d=\"M0 0h24v24H0V0z\" fill=\"none\"/>\n",
              "    <path d=\"M18.56 5.44l.94 2.06.94-2.06 2.06-.94-2.06-.94-.94-2.06-.94 2.06-2.06.94zm-11 1L8.5 8.5l.94-2.06 2.06-.94-2.06-.94L8.5 2.5l-.94 2.06-2.06.94zm10 10l.94 2.06.94-2.06 2.06-.94-2.06-.94-.94-2.06-.94 2.06-2.06.94z\"/><path d=\"M17.41 7.96l-1.37-1.37c-.4-.4-.92-.59-1.43-.59-.52 0-1.04.2-1.43.59L10.3 9.45l-7.72 7.72c-.78.78-.78 2.05 0 2.83L4 21.41c.39.39.9.59 1.41.59.51 0 1.02-.2 1.41-.59l7.78-7.78 2.81-2.81c.8-.78.8-2.07 0-2.86zM5.41 20L4 18.59l7.72-7.72 1.47 1.35L5.41 20z\"/>\n",
              "  </svg>\n",
              "      </button>\n",
              "      \n",
              "  <style>\n",
              "    .colab-df-container {\n",
              "      display:flex;\n",
              "      flex-wrap:wrap;\n",
              "      gap: 12px;\n",
              "    }\n",
              "\n",
              "    .colab-df-convert {\n",
              "      background-color: #E8F0FE;\n",
              "      border: none;\n",
              "      border-radius: 50%;\n",
              "      cursor: pointer;\n",
              "      display: none;\n",
              "      fill: #1967D2;\n",
              "      height: 32px;\n",
              "      padding: 0 0 0 0;\n",
              "      width: 32px;\n",
              "    }\n",
              "\n",
              "    .colab-df-convert:hover {\n",
              "      background-color: #E2EBFA;\n",
              "      box-shadow: 0px 1px 2px rgba(60, 64, 67, 0.3), 0px 1px 3px 1px rgba(60, 64, 67, 0.15);\n",
              "      fill: #174EA6;\n",
              "    }\n",
              "\n",
              "    [theme=dark] .colab-df-convert {\n",
              "      background-color: #3B4455;\n",
              "      fill: #D2E3FC;\n",
              "    }\n",
              "\n",
              "    [theme=dark] .colab-df-convert:hover {\n",
              "      background-color: #434B5C;\n",
              "      box-shadow: 0px 1px 3px 1px rgba(0, 0, 0, 0.15);\n",
              "      filter: drop-shadow(0px 1px 2px rgba(0, 0, 0, 0.3));\n",
              "      fill: #FFFFFF;\n",
              "    }\n",
              "  </style>\n",
              "\n",
              "      <script>\n",
              "        const buttonEl =\n",
              "          document.querySelector('#df-606b235b-98cb-4d03-b251-41daf2d5a48a button.colab-df-convert');\n",
              "        buttonEl.style.display =\n",
              "          google.colab.kernel.accessAllowed ? 'block' : 'none';\n",
              "\n",
              "        async function convertToInteractive(key) {\n",
              "          const element = document.querySelector('#df-606b235b-98cb-4d03-b251-41daf2d5a48a');\n",
              "          const dataTable =\n",
              "            await google.colab.kernel.invokeFunction('convertToInteractive',\n",
              "                                                     [key], {});\n",
              "          if (!dataTable) return;\n",
              "\n",
              "          const docLinkHtml = 'Like what you see? Visit the ' +\n",
              "            '<a target=\"_blank\" href=https://colab.research.google.com/notebooks/data_table.ipynb>data table notebook</a>'\n",
              "            + ' to learn more about interactive tables.';\n",
              "          element.innerHTML = '';\n",
              "          dataTable['output_type'] = 'display_data';\n",
              "          await google.colab.output.renderOutput(dataTable, element);\n",
              "          const docLink = document.createElement('div');\n",
              "          docLink.innerHTML = docLinkHtml;\n",
              "          element.appendChild(docLink);\n",
              "        }\n",
              "      </script>\n",
              "    </div>\n",
              "  </div>\n",
              "  "
            ]
          },
          "metadata": {},
          "execution_count": 23
        }
      ]
    },
    {
      "cell_type": "code",
      "source": [
        "fp['tweet'].unique()[:20]"
      ],
      "metadata": {
        "colab": {
          "base_uri": "https://localhost:8080/"
        },
        "id": "_aNWWoUaCiPt",
        "outputId": "8aaaac9c-a92d-4b81-d47a-a7735d915bb1"
      },
      "execution_count": null,
      "outputs": [
        {
          "output_type": "execute_result",
          "data": {
            "text/plain": [
              "array(['kejang kejang bong keren dewasa malu memalukan',\n",
              "       'pilihan kepala daerah daerah khusus ibukota dinyatn ahok elektabilitasnya calon tunggal mengaln ahok cukong lupa media media sosial dimonopoli kebenaran maju calon gubernur daerah khusus ibukota elektabilitas ahok tergerus',\n",
              "       'salah alasan presiden malu in bangsa iniiii',\n",
              "       'maksud jor joran pinjaman ib merebut simpati rakyat bombardir media freepomilik indonesia isu got sulit digoreng bertransformasi rezim mainlah teknologi got tin',\n",
              "       'sepupu bos gue facebook namanya sin ting orang indonesia baca nama facebook wa ng nirnya wa bilang sinting indonesia crazy tert',\n",
              "       'kalimat bacot doang buktikan kalimatnya maaf kasih solusi butuh',\n",
              "       'bajingan tengik',\n",
              "       'ekspresi pas kaget teriak ayam ayam cebong cebong cebong',\n",
              "       'il sekretariat jenderal mengaku kaget munculnya deklarasi reln mendukung mantan panglima tentara nasional indonesia ketua partai kebangkitan bangsa maju pemilihan presiden pemilihan presiden partai kebangkitan bangsa nomor cakiminthene',\n",
              "       'untung mengakui komunis mengakui ateis',\n",
              "       'anjing anjing anjing mencuri manusia',\n",
              "       'najis main ml kalah mulu teman buta map jebol push',\n",
              "       'habis gue diserbu mampus', 'najis gue lihatnya',\n",
              "       'remukkan rengginang cocot ah', 'senpai senpai celeng cari duit',\n",
              "       'cina pakai nada anu hem', 'renjun cina', 'babi sial marah',\n",
              "       'dibelng busuk sampah'], dtype=object)"
            ]
          },
          "metadata": {},
          "execution_count": 24
        }
      ]
    },
    {
      "cell_type": "markdown",
      "source": [
        "### Unigram"
      ],
      "metadata": {
        "id": "WlcyzNJWqzLk"
      }
    },
    {
      "cell_type": "code",
      "source": [
        "# False negative unigram\n",
        "unigram(fn)"
      ],
      "metadata": {
        "id": "_wAS6qQM2alw",
        "colab": {
          "base_uri": "https://localhost:8080/"
        },
        "outputId": "f3a2a7c4-6d2b-419b-889d-53c9c2fc3580"
      },
      "execution_count": null,
      "outputs": [
        {
          "output_type": "execute_result",
          "data": {
            "text/plain": [
              "indonesia    32\n",
              "orang        32\n",
              "presiden     30\n",
              "gue          28\n",
              "asing        23\n",
              "agama        20\n",
              "islam        19\n",
              "jokowi       18\n",
              "ganti        14\n",
              "tai          13\n",
              "partai       13\n",
              "komunis      13\n",
              "masuk        12\n",
              "kerja        11\n",
              "ulama        10\n",
              "monyet       10\n",
              "anak         10\n",
              "cina         10\n",
              "tau          10\n",
              "hati          9\n",
              "antek         9\n",
              "nama          9\n",
              "allah         8\n",
              "kafir         8\n",
              "rakyat        8\n",
              "muslim        8\n",
              "negara        8\n",
              "gubernur      8\n",
              "umat          8\n",
              "cacat         7\n",
              "dtype: int64"
            ]
          },
          "metadata": {},
          "execution_count": 25
        }
      ]
    },
    {
      "cell_type": "code",
      "source": [
        "# False positive unigram\n",
        "unigram(fp)"
      ],
      "metadata": {
        "id": "cde6dR_P3OGx",
        "colab": {
          "base_uri": "https://localhost:8080/"
        },
        "outputId": "15982d8c-9de4-4194-ab00-bf9164f2db6a"
      },
      "execution_count": null,
      "outputs": [
        {
          "output_type": "execute_result",
          "data": {
            "text/plain": [
              "presiden     25\n",
              "indonesia    19\n",
              "ganti        16\n",
              "gue          16\n",
              "orang        16\n",
              "cina         15\n",
              "rakyat       12\n",
              "rezim        12\n",
              "islam        12\n",
              "partai       11\n",
              "negara       10\n",
              "jokowi       10\n",
              "asing         9\n",
              "bangsa        9\n",
              "cebong        9\n",
              "komunis       8\n",
              "babi          8\n",
              "bilang        8\n",
              "ahok          7\n",
              "mengakui      7\n",
              "suka          7\n",
              "bangsat       7\n",
              "kampret       6\n",
              "banci         6\n",
              "antek         6\n",
              "bajingan      6\n",
              "goblok        6\n",
              "biar          6\n",
              "bacot         6\n",
              "ulama         6\n",
              "dtype: int64"
            ]
          },
          "metadata": {},
          "execution_count": 26
        }
      ]
    },
    {
      "cell_type": "code",
      "source": [
        "check('komunis', fp)"
      ],
      "metadata": {
        "id": "cX5iP0B03knn",
        "colab": {
          "base_uri": "https://localhost:8080/"
        },
        "outputId": "6155e47c-412d-4f69-8c29-27bd6b8aa3ea"
      },
      "execution_count": null,
      "outputs": [
        {
          "output_type": "execute_result",
          "data": {
            "text/plain": [
              "array(['untung mengakui komunis mengakui ateis',\n",
              "       'maklumlah pm zionis gabung komunis',\n",
              "       'hai pendukung hitler komunis', 'partai komunis indonesia bangkit',\n",
              "       'komunisme fm fasisme negara komunis berpotensi bangsa fasis cina uni soviet bangsa bangsa non rusia non slavia tepatnya dibunuh',\n",
              "       'warga negara indonesia bangga nini bilang soekarno partai komunis indonesia marah',\n",
              "       'perpolitikan negara butuh partai komunis biar ujung kebin pemerintah minimal sosialis logikanya aset negara tangan privat',\n",
              "       'tumbang sukses mengadu domba komunis liberalis pusing sang perancang perang tampil bangsa pemenang'],\n",
              "      dtype=object)"
            ]
          },
          "metadata": {},
          "execution_count": 27
        }
      ]
    },
    {
      "cell_type": "markdown",
      "source": [
        "### Bigram"
      ],
      "metadata": {
        "id": "kzQZH8Psq_D5"
      }
    },
    {
      "cell_type": "code",
      "source": [
        "# False positive bigram\n",
        "bigrams_fp = get_top_n_gram(fp['tweet'], (2,2), 20)\n",
        "bigrams_fp"
      ],
      "metadata": {
        "id": "0NpPacyh4d7U",
        "colab": {
          "base_uri": "https://localhost:8080/"
        },
        "outputId": "e7caeb65-d07e-4e5d-e32c-a22f1e3c28ed"
      },
      "execution_count": null,
      "outputs": [
        {
          "output_type": "execute_result",
          "data": {
            "text/plain": [
              "[('ganti presiden', 7),\n",
              " ('dewan perwakilan', 4),\n",
              " ('perwakilan rakyat', 4),\n",
              " ('daerah khusus', 3),\n",
              " ('khusus ibukota', 3),\n",
              " ('pemilihan presiden', 3),\n",
              " ('calon presiden', 3),\n",
              " ('partai komunis', 3),\n",
              " ('media sosial', 2),\n",
              " ('cebong cebong', 2),\n",
              " ('tentara nasional', 2),\n",
              " ('nasional indonesia', 2),\n",
              " ('partai kebangkitan', 2),\n",
              " ('kebangkitan bangsa', 2),\n",
              " ('bangsa maju', 2),\n",
              " ('anjing anjing', 2),\n",
              " ('rezim jokowi', 2),\n",
              " ('republik indonesia', 2),\n",
              " ('antek antek', 2),\n",
              " ('ayat sibuk', 2)]"
            ]
          },
          "metadata": {},
          "execution_count": 28
        }
      ]
    },
    {
      "cell_type": "code",
      "source": [
        "check('tenaga kerja', fp)"
      ],
      "metadata": {
        "id": "sjsg180UogPx",
        "colab": {
          "base_uri": "https://localhost:8080/"
        },
        "outputId": "270b4a5c-bda8-4cb3-a5ac-b99388cf4107"
      },
      "execution_count": null,
      "outputs": [
        {
          "output_type": "execute_result",
          "data": {
            "text/plain": [
              "array(['opung tenaga kerja cina skill khusus buruh pribumi layak membangun proyek pemerintah tenaga kerja asing cina terampil labour juta lapangan pekern'],\n",
              "      dtype=object)"
            ]
          },
          "metadata": {},
          "execution_count": 29
        }
      ]
    },
    {
      "cell_type": "code",
      "source": [
        "# False negative bigram\n",
        "bigrams_fn = get_top_n_gram(fn['tweet'], (2,2), 20)\n",
        "bigrams_fn"
      ],
      "metadata": {
        "id": "CKlnZ4xNrsxs",
        "colab": {
          "base_uri": "https://localhost:8080/"
        },
        "outputId": "b9d32ed9-56f0-4346-bd00-9d40c9ada315"
      },
      "execution_count": null,
      "outputs": [
        {
          "output_type": "execute_result",
          "data": {
            "text/plain": [
              "[('ganti presiden', 14),\n",
              " ('umat islam', 6),\n",
              " ('tenaga kerja', 6),\n",
              " ('asing asing', 5),\n",
              " ('pilihan kepala', 4),\n",
              " ('kepala daerah', 4),\n",
              " ('kerja asing', 4),\n",
              " ('tambang indonesia', 4),\n",
              " ('bawa perasaan', 3),\n",
              " ('partai keadilan', 3),\n",
              " ('keadilan sejahtera', 3),\n",
              " ('kh hasyim', 3),\n",
              " ('mengancam bunuh', 2),\n",
              " ('menteri agama', 2),\n",
              " ('orang islam', 2),\n",
              " ('libur lebaran', 2),\n",
              " ('islam nusantara', 2),\n",
              " ('nusantara produk', 2),\n",
              " ('produk jil', 2),\n",
              " ('jil dipasarkan', 2)]"
            ]
          },
          "metadata": {},
          "execution_count": 30
        }
      ]
    },
    {
      "cell_type": "code",
      "source": [
        "# True positive bigram\n",
        "bigrams_tp = get_top_n_gram(tp['tweet'], (2,2), 20)\n",
        "bigrams_tp"
      ],
      "metadata": {
        "id": "VJ_4i14Dr5sP",
        "colab": {
          "base_uri": "https://localhost:8080/"
        },
        "outputId": "8bf14ff8-64a5-4bfc-fbca-8108002c94bd"
      },
      "execution_count": null,
      "outputs": [
        {
          "output_type": "execute_result",
          "data": {
            "text/plain": [
              "[('partai komunis', 64),\n",
              " ('komunis indonesia', 63),\n",
              " ('ganti presiden', 54),\n",
              " ('lengserkan jokowi', 28),\n",
              " ('pemberantasan korupsi', 27),\n",
              " ('komisi pemberantasan', 26),\n",
              " ('republik indonesia', 22),\n",
              " ('susilo bambang', 21),\n",
              " ('bambang yudhoyono', 21),\n",
              " ('dewan perwakilan', 21),\n",
              " ('perwakilan rakyat', 21),\n",
              " ('anies sandi', 19),\n",
              " ('penista agama', 18),\n",
              " ('plonga plongo', 15),\n",
              " ('partai demokrasi', 14),\n",
              " ('demokrasi indonesia', 14),\n",
              " ('presiden ganti', 14),\n",
              " ('indonesia perjuangan', 13),\n",
              " ('allah subhanahu', 13),\n",
              " ('subhanahu wa', 13)]"
            ]
          },
          "metadata": {},
          "execution_count": 31
        }
      ]
    },
    {
      "cell_type": "code",
      "source": [
        "check('partai komunis', tp)"
      ],
      "metadata": {
        "id": "9lmmdcVlsO58",
        "colab": {
          "base_uri": "https://localhost:8080/"
        },
        "outputId": "f796204b-e649-4202-b4cb-dfdf2a238092"
      },
      "execution_count": null,
      "outputs": [
        {
          "output_type": "execute_result",
          "data": {
            "text/plain": [
              "array(['bermasalah partai komunis indonesia angkatan darat menggern massa anti jokowi isu isu anti agama komunis',\n",
              "       'isu partai komunis indonesia hembuskan grup grup pendukung prabowo',\n",
              "       'partai komunis indonesia gaya jokowi antek komunis',\n",
              "       'sumbu pendek jokowi koalisi negara partai komunis indonesia jokowi partai komunis indonesia lengserkan jokowi pusing hamba',\n",
              "       'gerombolan rizieq front pembela islam memainkan isu pemerintah jokowi pro partai komunis indonesia',\n",
              "       'takut ganyang partai komunis indonesia bya embrio iblisnya berkembang biak',\n",
              "       'muncul partai komunis indonesia berbulu monyet',\n",
              "       'ganyang partai komunis indonesia tentara nasional indonesia',\n",
              "       'jokowi tuduh partai komunis indonesia prabowo tuduh otoriter halo mas agus harimurti yudhoyono senyum senyum mengumpulkan kekuatan politik',\n",
              "       'namanya pemerintahan revolusioner republik indonesia susah gampang partai komunis indonesia'],\n",
              "      dtype=object)"
            ]
          },
          "metadata": {},
          "execution_count": 32
        }
      ]
    },
    {
      "cell_type": "markdown",
      "source": [
        "To improve model's performance, we can try to gather more data specifically on **label 0** (Neutral) "
      ],
      "metadata": {
        "id": "N8yY-igTfatD"
      }
    }
  ]
}